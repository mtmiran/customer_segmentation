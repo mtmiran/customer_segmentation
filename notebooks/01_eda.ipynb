{
 "cells": [
  {
   "cell_type": "markdown",
   "metadata": {},
   "source": [
    "# EDA - Exploratory Data Analysis\n",
    "\n",
    "Exploratory Data Analysis refers to the critical process of performing initial investigations on data so as to discover patterns,to spot anomalies,to test hypothesis and to check assumptions with the help of summary statistics and graphical representations (Patil 2018).\n",
    "\n",
    "## Goals\n",
    "\n",
    "- **Data cleaning:** cleaning the database, outliers, missings;\n",
    "- **Data Investigation:** describe the customer base and e-commerce segments;\n",
    "- **Some questions to answer:**\n",
    "- What is the average delivery time in all countries?\n",
    "- Which customer segment is most profitable each year?\n",
    "- What is the segment with the highest sales volume? (understand volume by number of sales)\n",
    "- How are customers distributed across countries?\n",
    "- Create a Customer Profile based on their purchasing frequency - calculate purchasing frequency for each customer\n",
    "- Are the most frequent customers contributing more revenue?\n",
    "- Are they also profitable?"
   ]
  },
  {
   "cell_type": "markdown",
   "metadata": {},
   "source": [
    "### Import Librarys"
   ]
  },
  {
   "cell_type": "code",
   "execution_count": 1,
   "metadata": {},
   "outputs": [],
   "source": [
    "# Data Analysis Step\n",
    "import datetime as dt\n",
    "import matplotlib.pyplot as plt\n",
    "import pandas as pd\n",
    "import numpy as np \n",
    "from scipy import stats\n",
    "import seaborn as sns\n",
    "import warnings\n",
    "warnings.filterwarnings('ignore')\n",
    "\n",
    "# plot parameters\n",
    "%matplotlib inline\n",
    "plt.rcParams['font.size'] = 14\n",
    "plt.rcParams['figure.figsize'] = (9, 5)\n",
    "plt.rcParams['figure.facecolor'] = '#00000000'\n",
    "\n",
    "# outliers with mahalanobis\n",
    "from scipy.spatial import distance\n",
    "\n"
   ]
  },
  {
   "cell_type": "markdown",
   "metadata": {
    "jp-MarkdownHeadingCollapsed": true,
    "tags": []
   },
   "source": [
    "## Data Preparation\n",
    "\n",
    "**Notes:**\n",
    "\n",
    "- TARGET: 'Sales\"\n",
    "- Fatures: 'Sales', 'customer ID', 'segment', 'city', 'state', 'order date', 'ship date', 'profit'\n",
    "- order and ship date are not in datetime format."
   ]
  },
  {
   "cell_type": "markdown",
   "metadata": {},
   "source": [
    "### Import DataSet"
   ]
  },
  {
   "cell_type": "code",
   "execution_count": 2,
   "metadata": {},
   "outputs": [],
   "source": [
    "# dataset from the Excel file \n",
    "dataset = pd.read_excel('../data/dataset_time_series.xlsx')\n",
    "df = dataset.copy()"
   ]
  },
  {
   "cell_type": "markdown",
   "metadata": {
    "tags": []
   },
   "source": [
    "### Understanding the data"
   ]
  },
  {
   "cell_type": "code",
   "execution_count": 3,
   "metadata": {},
   "outputs": [],
   "source": [
    "def summary(df):\n",
    "    \"\"\"\n",
    "    Display a summary of a DataFrame.\n",
    "\n",
    "    This function displays the first few rows of the DataFrame, basic information about the DataFrame's structure,\n",
    "    and summary statistics including percentiles.\n",
    "\n",
    "    Parameters:\n",
    "    df (DataFrame): The pandas DataFrame to be summarized.\n",
    "\n",
    "    Returns:\n",
    "    None\n",
    "    \"\"\"\n",
    "\n",
    "    display(f'Rows: {df.shape[0]}; Columns: {df.shape[1]}')\n",
    "    display(df.head())\n",
    "    print('-' * 100)\n",
    "    display(df.info())\n",
    "    print('-' * 100)\n",
    "    display(df.describe([0.01, 0.25, 0.50, 0.75, 0.99]))"
   ]
  },
  {
   "cell_type": "code",
   "execution_count": 4,
   "metadata": {},
   "outputs": [
    {
     "data": {
      "text/plain": [
       "'Rows: 51290; Columns: 23'"
      ]
     },
     "metadata": {},
     "output_type": "display_data"
    },
    {
     "data": {
      "text/html": [
       "<div>\n",
       "<style scoped>\n",
       "    .dataframe tbody tr th:only-of-type {\n",
       "        vertical-align: middle;\n",
       "    }\n",
       "\n",
       "    .dataframe tbody tr th {\n",
       "        vertical-align: top;\n",
       "    }\n",
       "\n",
       "    .dataframe thead th {\n",
       "        text-align: right;\n",
       "    }\n",
       "</style>\n",
       "<table border=\"1\" class=\"dataframe\">\n",
       "  <thead>\n",
       "    <tr style=\"text-align: right;\">\n",
       "      <th></th>\n",
       "      <th>Order ID</th>\n",
       "      <th>Order Date</th>\n",
       "      <th>Ship Date</th>\n",
       "      <th>Ship Mode</th>\n",
       "      <th>customer ID</th>\n",
       "      <th>Customer Name</th>\n",
       "      <th>Segment</th>\n",
       "      <th>City</th>\n",
       "      <th>State</th>\n",
       "      <th>Country</th>\n",
       "      <th>...</th>\n",
       "      <th>Product ID</th>\n",
       "      <th>Category</th>\n",
       "      <th>Sub-Category</th>\n",
       "      <th>Product Name</th>\n",
       "      <th>Sales</th>\n",
       "      <th>Quantity</th>\n",
       "      <th>Discount</th>\n",
       "      <th>Profit</th>\n",
       "      <th>Shipping Cost</th>\n",
       "      <th>Order Priority</th>\n",
       "    </tr>\n",
       "  </thead>\n",
       "  <tbody>\n",
       "    <tr>\n",
       "      <th>0</th>\n",
       "      <td>ES-2011-5338028</td>\n",
       "      <td>28-12-2011</td>\n",
       "      <td>01-01-2012</td>\n",
       "      <td>Second Class</td>\n",
       "      <td>18115</td>\n",
       "      <td>Mick Hernandez</td>\n",
       "      <td>Home Office</td>\n",
       "      <td>Turin</td>\n",
       "      <td>Piedmont</td>\n",
       "      <td>Italy</td>\n",
       "      <td>...</td>\n",
       "      <td>FUR-BO-10003541</td>\n",
       "      <td>Furniture</td>\n",
       "      <td>Bookcases</td>\n",
       "      <td>Bush Classic Bookcase, Metal</td>\n",
       "      <td>1236.420</td>\n",
       "      <td>3</td>\n",
       "      <td>0.0</td>\n",
       "      <td>420.3000</td>\n",
       "      <td>139.93</td>\n",
       "      <td>Medium</td>\n",
       "    </tr>\n",
       "    <tr>\n",
       "      <th>1</th>\n",
       "      <td>ID-2011-24160</td>\n",
       "      <td>29-12-2011</td>\n",
       "      <td>01-01-2012</td>\n",
       "      <td>Second Class</td>\n",
       "      <td>20170</td>\n",
       "      <td>Sarah Bern</td>\n",
       "      <td>Consumer</td>\n",
       "      <td>Gold Coast</td>\n",
       "      <td>Queensland</td>\n",
       "      <td>Australia</td>\n",
       "      <td>...</td>\n",
       "      <td>TEC-PH-10002601</td>\n",
       "      <td>Technology</td>\n",
       "      <td>Phones</td>\n",
       "      <td>Motorola Smart Phone, Cordless</td>\n",
       "      <td>578.502</td>\n",
       "      <td>1</td>\n",
       "      <td>0.1</td>\n",
       "      <td>-38.5680</td>\n",
       "      <td>131.81</td>\n",
       "      <td>Critical</td>\n",
       "    </tr>\n",
       "    <tr>\n",
       "      <th>2</th>\n",
       "      <td>CA-2011-141313</td>\n",
       "      <td>28-12-2011</td>\n",
       "      <td>01-01-2012</td>\n",
       "      <td>Standard Class</td>\n",
       "      <td>10780</td>\n",
       "      <td>Anthony Jacobs</td>\n",
       "      <td>Corporate</td>\n",
       "      <td>Beverly</td>\n",
       "      <td>Massachusetts</td>\n",
       "      <td>United States</td>\n",
       "      <td>...</td>\n",
       "      <td>OFF-AP-10002651</td>\n",
       "      <td>Office Supplies</td>\n",
       "      <td>Appliances</td>\n",
       "      <td>Hoover Upright Vacuum With Dirt Cup</td>\n",
       "      <td>1737.180</td>\n",
       "      <td>6</td>\n",
       "      <td>0.0</td>\n",
       "      <td>503.7822</td>\n",
       "      <td>131.71</td>\n",
       "      <td>Medium</td>\n",
       "    </tr>\n",
       "    <tr>\n",
       "      <th>3</th>\n",
       "      <td>ID-2011-24160</td>\n",
       "      <td>29-12-2011</td>\n",
       "      <td>01-01-2012</td>\n",
       "      <td>Second Class</td>\n",
       "      <td>20170</td>\n",
       "      <td>Sarah Bern</td>\n",
       "      <td>Consumer</td>\n",
       "      <td>Gold Coast</td>\n",
       "      <td>Queensland</td>\n",
       "      <td>Australia</td>\n",
       "      <td>...</td>\n",
       "      <td>FUR-BO-10002308</td>\n",
       "      <td>Furniture</td>\n",
       "      <td>Bookcases</td>\n",
       "      <td>Safco Floating Shelf Set, Metal</td>\n",
       "      <td>353.160</td>\n",
       "      <td>2</td>\n",
       "      <td>0.1</td>\n",
       "      <td>39.2400</td>\n",
       "      <td>92.20</td>\n",
       "      <td>Critical</td>\n",
       "    </tr>\n",
       "    <tr>\n",
       "      <th>4</th>\n",
       "      <td>CA-2011-104738</td>\n",
       "      <td>30-12-2011</td>\n",
       "      <td>01-01-2012</td>\n",
       "      <td>Second Class</td>\n",
       "      <td>20620</td>\n",
       "      <td>Stefania Perrino</td>\n",
       "      <td>Corporate</td>\n",
       "      <td>Laredo</td>\n",
       "      <td>Texas</td>\n",
       "      <td>United States</td>\n",
       "      <td>...</td>\n",
       "      <td>TEC-PH-10002468</td>\n",
       "      <td>Technology</td>\n",
       "      <td>Phones</td>\n",
       "      <td>Plantronics CS 50-USB - headset - Convertible,...</td>\n",
       "      <td>217.584</td>\n",
       "      <td>2</td>\n",
       "      <td>0.2</td>\n",
       "      <td>19.0386</td>\n",
       "      <td>76.76</td>\n",
       "      <td>Critical</td>\n",
       "    </tr>\n",
       "  </tbody>\n",
       "</table>\n",
       "<p>5 rows × 23 columns</p>\n",
       "</div>"
      ],
      "text/plain": [
       "          Order ID  Order Date   Ship Date       Ship Mode  customer ID  \\\n",
       "0  ES-2011-5338028  28-12-2011  01-01-2012    Second Class        18115   \n",
       "1    ID-2011-24160  29-12-2011  01-01-2012    Second Class        20170   \n",
       "2   CA-2011-141313  28-12-2011  01-01-2012  Standard Class        10780   \n",
       "3    ID-2011-24160  29-12-2011  01-01-2012    Second Class        20170   \n",
       "4   CA-2011-104738  30-12-2011  01-01-2012    Second Class        20620   \n",
       "\n",
       "      Customer Name      Segment        City          State        Country  \\\n",
       "0    Mick Hernandez  Home Office       Turin       Piedmont          Italy   \n",
       "1        Sarah Bern     Consumer  Gold Coast     Queensland      Australia   \n",
       "2    Anthony Jacobs    Corporate     Beverly  Massachusetts  United States   \n",
       "3        Sarah Bern     Consumer  Gold Coast     Queensland      Australia   \n",
       "4  Stefania Perrino    Corporate      Laredo          Texas  United States   \n",
       "\n",
       "   ...       Product ID         Category Sub-Category  \\\n",
       "0  ...  FUR-BO-10003541        Furniture    Bookcases   \n",
       "1  ...  TEC-PH-10002601       Technology       Phones   \n",
       "2  ...  OFF-AP-10002651  Office Supplies   Appliances   \n",
       "3  ...  FUR-BO-10002308        Furniture    Bookcases   \n",
       "4  ...  TEC-PH-10002468       Technology       Phones   \n",
       "\n",
       "                                        Product Name     Sales Quantity  \\\n",
       "0                       Bush Classic Bookcase, Metal  1236.420        3   \n",
       "1                     Motorola Smart Phone, Cordless   578.502        1   \n",
       "2                Hoover Upright Vacuum With Dirt Cup  1737.180        6   \n",
       "3                    Safco Floating Shelf Set, Metal   353.160        2   \n",
       "4  Plantronics CS 50-USB - headset - Convertible,...   217.584        2   \n",
       "\n",
       "  Discount    Profit  Shipping Cost  Order Priority  \n",
       "0      0.0  420.3000         139.93          Medium  \n",
       "1      0.1  -38.5680         131.81        Critical  \n",
       "2      0.0  503.7822         131.71          Medium  \n",
       "3      0.1   39.2400          92.20        Critical  \n",
       "4      0.2   19.0386          76.76        Critical  \n",
       "\n",
       "[5 rows x 23 columns]"
      ]
     },
     "metadata": {},
     "output_type": "display_data"
    },
    {
     "name": "stdout",
     "output_type": "stream",
     "text": [
      "----------------------------------------------------------------------------------------------------\n",
      "<class 'pandas.core.frame.DataFrame'>\n",
      "RangeIndex: 51290 entries, 0 to 51289\n",
      "Data columns (total 23 columns):\n",
      " #   Column          Non-Null Count  Dtype  \n",
      "---  ------          --------------  -----  \n",
      " 0   Order ID        51290 non-null  object \n",
      " 1   Order Date      51290 non-null  object \n",
      " 2   Ship Date       51290 non-null  object \n",
      " 3   Ship Mode       51290 non-null  object \n",
      " 4   customer ID     51290 non-null  int64  \n",
      " 5   Customer Name   51290 non-null  object \n",
      " 6   Segment         51290 non-null  object \n",
      " 7   City            51290 non-null  object \n",
      " 8   State           51290 non-null  object \n",
      " 9   Country         51290 non-null  object \n",
      " 10  Postal Code     9994 non-null   float64\n",
      " 11  Market          51290 non-null  object \n",
      " 12  Region          51290 non-null  object \n",
      " 13  Product ID      51290 non-null  object \n",
      " 14  Category        51290 non-null  object \n",
      " 15  Sub-Category    51290 non-null  object \n",
      " 16  Product Name    51290 non-null  object \n",
      " 17  Sales           51290 non-null  float64\n",
      " 18  Quantity        51290 non-null  int64  \n",
      " 19  Discount        51290 non-null  float64\n",
      " 20  Profit          51290 non-null  float64\n",
      " 21  Shipping Cost   51290 non-null  float64\n",
      " 22  Order Priority  51290 non-null  object \n",
      "dtypes: float64(5), int64(2), object(16)\n",
      "memory usage: 9.0+ MB\n"
     ]
    },
    {
     "data": {
      "text/plain": [
       "None"
      ]
     },
     "metadata": {},
     "output_type": "display_data"
    },
    {
     "name": "stdout",
     "output_type": "stream",
     "text": [
      "----------------------------------------------------------------------------------------------------\n"
     ]
    },
    {
     "data": {
      "text/html": [
       "<div>\n",
       "<style scoped>\n",
       "    .dataframe tbody tr th:only-of-type {\n",
       "        vertical-align: middle;\n",
       "    }\n",
       "\n",
       "    .dataframe tbody tr th {\n",
       "        vertical-align: top;\n",
       "    }\n",
       "\n",
       "    .dataframe thead th {\n",
       "        text-align: right;\n",
       "    }\n",
       "</style>\n",
       "<table border=\"1\" class=\"dataframe\">\n",
       "  <thead>\n",
       "    <tr style=\"text-align: right;\">\n",
       "      <th></th>\n",
       "      <th>customer ID</th>\n",
       "      <th>Postal Code</th>\n",
       "      <th>Sales</th>\n",
       "      <th>Quantity</th>\n",
       "      <th>Discount</th>\n",
       "      <th>Profit</th>\n",
       "      <th>Shipping Cost</th>\n",
       "    </tr>\n",
       "  </thead>\n",
       "  <tbody>\n",
       "    <tr>\n",
       "      <th>count</th>\n",
       "      <td>51290.000000</td>\n",
       "      <td>9994.000000</td>\n",
       "      <td>51290.000000</td>\n",
       "      <td>51290.000000</td>\n",
       "      <td>51290.000000</td>\n",
       "      <td>51290.000000</td>\n",
       "      <td>51290.000000</td>\n",
       "    </tr>\n",
       "    <tr>\n",
       "      <th>mean</th>\n",
       "      <td>14037.790310</td>\n",
       "      <td>55190.379428</td>\n",
       "      <td>246.490581</td>\n",
       "      <td>3.476545</td>\n",
       "      <td>0.142908</td>\n",
       "      <td>28.610982</td>\n",
       "      <td>26.375915</td>\n",
       "    </tr>\n",
       "    <tr>\n",
       "      <th>std</th>\n",
       "      <td>5289.254612</td>\n",
       "      <td>32063.693350</td>\n",
       "      <td>487.565361</td>\n",
       "      <td>2.278766</td>\n",
       "      <td>0.212280</td>\n",
       "      <td>174.340972</td>\n",
       "      <td>57.296804</td>\n",
       "    </tr>\n",
       "    <tr>\n",
       "      <th>min</th>\n",
       "      <td>15.000000</td>\n",
       "      <td>1040.000000</td>\n",
       "      <td>0.444000</td>\n",
       "      <td>1.000000</td>\n",
       "      <td>0.000000</td>\n",
       "      <td>-6599.978000</td>\n",
       "      <td>0.000000</td>\n",
       "    </tr>\n",
       "    <tr>\n",
       "      <th>1%</th>\n",
       "      <td>600.000000</td>\n",
       "      <td>2149.000000</td>\n",
       "      <td>3.690000</td>\n",
       "      <td>1.000000</td>\n",
       "      <td>0.000000</td>\n",
       "      <td>-351.505650</td>\n",
       "      <td>0.200000</td>\n",
       "    </tr>\n",
       "    <tr>\n",
       "      <th>25%</th>\n",
       "      <td>11050.000000</td>\n",
       "      <td>23223.000000</td>\n",
       "      <td>30.758625</td>\n",
       "      <td>2.000000</td>\n",
       "      <td>0.000000</td>\n",
       "      <td>0.000000</td>\n",
       "      <td>2.610000</td>\n",
       "    </tr>\n",
       "    <tr>\n",
       "      <th>50%</th>\n",
       "      <td>14635.000000</td>\n",
       "      <td>56430.500000</td>\n",
       "      <td>85.053000</td>\n",
       "      <td>3.000000</td>\n",
       "      <td>0.000000</td>\n",
       "      <td>9.240000</td>\n",
       "      <td>7.790000</td>\n",
       "    </tr>\n",
       "    <tr>\n",
       "      <th>75%</th>\n",
       "      <td>18265.000000</td>\n",
       "      <td>90008.000000</td>\n",
       "      <td>251.053200</td>\n",
       "      <td>5.000000</td>\n",
       "      <td>0.200000</td>\n",
       "      <td>36.810000</td>\n",
       "      <td>24.450000</td>\n",
       "    </tr>\n",
       "    <tr>\n",
       "      <th>99%</th>\n",
       "      <td>21790.000000</td>\n",
       "      <td>98115.000000</td>\n",
       "      <td>2301.000000</td>\n",
       "      <td>11.000000</td>\n",
       "      <td>0.700000</td>\n",
       "      <td>587.359950</td>\n",
       "      <td>286.754300</td>\n",
       "    </tr>\n",
       "    <tr>\n",
       "      <th>max</th>\n",
       "      <td>21925.000000</td>\n",
       "      <td>99301.000000</td>\n",
       "      <td>22638.480000</td>\n",
       "      <td>14.000000</td>\n",
       "      <td>0.850000</td>\n",
       "      <td>8399.976000</td>\n",
       "      <td>933.570000</td>\n",
       "    </tr>\n",
       "  </tbody>\n",
       "</table>\n",
       "</div>"
      ],
      "text/plain": [
       "        customer ID   Postal Code         Sales      Quantity      Discount  \\\n",
       "count  51290.000000   9994.000000  51290.000000  51290.000000  51290.000000   \n",
       "mean   14037.790310  55190.379428    246.490581      3.476545      0.142908   \n",
       "std     5289.254612  32063.693350    487.565361      2.278766      0.212280   \n",
       "min       15.000000   1040.000000      0.444000      1.000000      0.000000   \n",
       "1%       600.000000   2149.000000      3.690000      1.000000      0.000000   \n",
       "25%    11050.000000  23223.000000     30.758625      2.000000      0.000000   \n",
       "50%    14635.000000  56430.500000     85.053000      3.000000      0.000000   \n",
       "75%    18265.000000  90008.000000    251.053200      5.000000      0.200000   \n",
       "99%    21790.000000  98115.000000   2301.000000     11.000000      0.700000   \n",
       "max    21925.000000  99301.000000  22638.480000     14.000000      0.850000   \n",
       "\n",
       "             Profit  Shipping Cost  \n",
       "count  51290.000000   51290.000000  \n",
       "mean      28.610982      26.375915  \n",
       "std      174.340972      57.296804  \n",
       "min    -6599.978000       0.000000  \n",
       "1%      -351.505650       0.200000  \n",
       "25%        0.000000       2.610000  \n",
       "50%        9.240000       7.790000  \n",
       "75%       36.810000      24.450000  \n",
       "99%      587.359950     286.754300  \n",
       "max     8399.976000     933.570000  "
      ]
     },
     "metadata": {},
     "output_type": "display_data"
    }
   ],
   "source": [
    "summary(df)"
   ]
  },
  {
   "cell_type": "markdown",
   "metadata": {},
   "source": [
    "### Selecting specific columns for analysis"
   ]
  },
  {
   "cell_type": "code",
   "execution_count": 5,
   "metadata": {},
   "outputs": [],
   "source": [
    "df = df[['Order ID', 'Order Date', 'Ship Date', 'customer ID','Segment', 'City', 'State', 'Region', 'Country', 'Market', 'Product ID', 'Category', 'Product Name', 'Sales', 'Quantity','Profit']]"
   ]
  },
  {
   "cell_type": "code",
   "execution_count": 6,
   "metadata": {},
   "outputs": [
    {
     "data": {
      "text/html": [
       "<div>\n",
       "<style scoped>\n",
       "    .dataframe tbody tr th:only-of-type {\n",
       "        vertical-align: middle;\n",
       "    }\n",
       "\n",
       "    .dataframe tbody tr th {\n",
       "        vertical-align: top;\n",
       "    }\n",
       "\n",
       "    .dataframe thead th {\n",
       "        text-align: right;\n",
       "    }\n",
       "</style>\n",
       "<table border=\"1\" class=\"dataframe\">\n",
       "  <thead>\n",
       "    <tr style=\"text-align: right;\">\n",
       "      <th></th>\n",
       "      <th>Order ID</th>\n",
       "      <th>Order Date</th>\n",
       "      <th>Ship Date</th>\n",
       "      <th>customer ID</th>\n",
       "      <th>Segment</th>\n",
       "      <th>City</th>\n",
       "      <th>State</th>\n",
       "      <th>Region</th>\n",
       "      <th>Country</th>\n",
       "      <th>Market</th>\n",
       "      <th>Product ID</th>\n",
       "      <th>Category</th>\n",
       "      <th>Product Name</th>\n",
       "      <th>Sales</th>\n",
       "      <th>Quantity</th>\n",
       "      <th>Profit</th>\n",
       "    </tr>\n",
       "  </thead>\n",
       "  <tbody>\n",
       "    <tr>\n",
       "      <th>0</th>\n",
       "      <td>ES-2011-5338028</td>\n",
       "      <td>28-12-2011</td>\n",
       "      <td>01-01-2012</td>\n",
       "      <td>18115</td>\n",
       "      <td>Home Office</td>\n",
       "      <td>Turin</td>\n",
       "      <td>Piedmont</td>\n",
       "      <td>South</td>\n",
       "      <td>Italy</td>\n",
       "      <td>EU</td>\n",
       "      <td>FUR-BO-10003541</td>\n",
       "      <td>Furniture</td>\n",
       "      <td>Bush Classic Bookcase, Metal</td>\n",
       "      <td>1236.420</td>\n",
       "      <td>3</td>\n",
       "      <td>420.3000</td>\n",
       "    </tr>\n",
       "    <tr>\n",
       "      <th>1</th>\n",
       "      <td>ID-2011-24160</td>\n",
       "      <td>29-12-2011</td>\n",
       "      <td>01-01-2012</td>\n",
       "      <td>20170</td>\n",
       "      <td>Consumer</td>\n",
       "      <td>Gold Coast</td>\n",
       "      <td>Queensland</td>\n",
       "      <td>Oceania</td>\n",
       "      <td>Australia</td>\n",
       "      <td>APAC</td>\n",
       "      <td>TEC-PH-10002601</td>\n",
       "      <td>Technology</td>\n",
       "      <td>Motorola Smart Phone, Cordless</td>\n",
       "      <td>578.502</td>\n",
       "      <td>1</td>\n",
       "      <td>-38.5680</td>\n",
       "    </tr>\n",
       "    <tr>\n",
       "      <th>2</th>\n",
       "      <td>CA-2011-141313</td>\n",
       "      <td>28-12-2011</td>\n",
       "      <td>01-01-2012</td>\n",
       "      <td>10780</td>\n",
       "      <td>Corporate</td>\n",
       "      <td>Beverly</td>\n",
       "      <td>Massachusetts</td>\n",
       "      <td>East</td>\n",
       "      <td>United States</td>\n",
       "      <td>US</td>\n",
       "      <td>OFF-AP-10002651</td>\n",
       "      <td>Office Supplies</td>\n",
       "      <td>Hoover Upright Vacuum With Dirt Cup</td>\n",
       "      <td>1737.180</td>\n",
       "      <td>6</td>\n",
       "      <td>503.7822</td>\n",
       "    </tr>\n",
       "    <tr>\n",
       "      <th>3</th>\n",
       "      <td>ID-2011-24160</td>\n",
       "      <td>29-12-2011</td>\n",
       "      <td>01-01-2012</td>\n",
       "      <td>20170</td>\n",
       "      <td>Consumer</td>\n",
       "      <td>Gold Coast</td>\n",
       "      <td>Queensland</td>\n",
       "      <td>Oceania</td>\n",
       "      <td>Australia</td>\n",
       "      <td>APAC</td>\n",
       "      <td>FUR-BO-10002308</td>\n",
       "      <td>Furniture</td>\n",
       "      <td>Safco Floating Shelf Set, Metal</td>\n",
       "      <td>353.160</td>\n",
       "      <td>2</td>\n",
       "      <td>39.2400</td>\n",
       "    </tr>\n",
       "    <tr>\n",
       "      <th>4</th>\n",
       "      <td>CA-2011-104738</td>\n",
       "      <td>30-12-2011</td>\n",
       "      <td>01-01-2012</td>\n",
       "      <td>20620</td>\n",
       "      <td>Corporate</td>\n",
       "      <td>Laredo</td>\n",
       "      <td>Texas</td>\n",
       "      <td>Central</td>\n",
       "      <td>United States</td>\n",
       "      <td>US</td>\n",
       "      <td>TEC-PH-10002468</td>\n",
       "      <td>Technology</td>\n",
       "      <td>Plantronics CS 50-USB - headset - Convertible,...</td>\n",
       "      <td>217.584</td>\n",
       "      <td>2</td>\n",
       "      <td>19.0386</td>\n",
       "    </tr>\n",
       "  </tbody>\n",
       "</table>\n",
       "</div>"
      ],
      "text/plain": [
       "          Order ID  Order Date   Ship Date  customer ID      Segment  \\\n",
       "0  ES-2011-5338028  28-12-2011  01-01-2012        18115  Home Office   \n",
       "1    ID-2011-24160  29-12-2011  01-01-2012        20170     Consumer   \n",
       "2   CA-2011-141313  28-12-2011  01-01-2012        10780    Corporate   \n",
       "3    ID-2011-24160  29-12-2011  01-01-2012        20170     Consumer   \n",
       "4   CA-2011-104738  30-12-2011  01-01-2012        20620    Corporate   \n",
       "\n",
       "         City          State   Region        Country Market       Product ID  \\\n",
       "0       Turin       Piedmont    South          Italy     EU  FUR-BO-10003541   \n",
       "1  Gold Coast     Queensland  Oceania      Australia   APAC  TEC-PH-10002601   \n",
       "2     Beverly  Massachusetts     East  United States     US  OFF-AP-10002651   \n",
       "3  Gold Coast     Queensland  Oceania      Australia   APAC  FUR-BO-10002308   \n",
       "4      Laredo          Texas  Central  United States     US  TEC-PH-10002468   \n",
       "\n",
       "          Category                                       Product Name  \\\n",
       "0        Furniture                       Bush Classic Bookcase, Metal   \n",
       "1       Technology                     Motorola Smart Phone, Cordless   \n",
       "2  Office Supplies                Hoover Upright Vacuum With Dirt Cup   \n",
       "3        Furniture                    Safco Floating Shelf Set, Metal   \n",
       "4       Technology  Plantronics CS 50-USB - headset - Convertible,...   \n",
       "\n",
       "      Sales  Quantity    Profit  \n",
       "0  1236.420         3  420.3000  \n",
       "1   578.502         1  -38.5680  \n",
       "2  1737.180         6  503.7822  \n",
       "3   353.160         2   39.2400  \n",
       "4   217.584         2   19.0386  "
      ]
     },
     "execution_count": 6,
     "metadata": {},
     "output_type": "execute_result"
    }
   ],
   "source": [
    "df.head()"
   ]
  },
  {
   "cell_type": "markdown",
   "metadata": {},
   "source": [
    "### Normalize Date"
   ]
  },
  {
   "cell_type": "code",
   "execution_count": 7,
   "metadata": {},
   "outputs": [],
   "source": [
    "# function, verify if is date format\n",
    "def is_date_format(df, column):\n",
    "    data_type = df[column].dtype\n",
    "    \n",
    "    if data_type == 'datetime64[ns]':\n",
    "        print(f\"The '{column}' column is in date format.\")\n",
    "    else:\n",
    "        print(f\"The '{column}' column is not in date format.\")"
   ]
  },
  {
   "cell_type": "code",
   "execution_count": 8,
   "metadata": {},
   "outputs": [
    {
     "name": "stdout",
     "output_type": "stream",
     "text": [
      "The 'Order Date' column is not in date format.\n"
     ]
    }
   ],
   "source": [
    "is_date_format(df, 'Order Date')"
   ]
  },
  {
   "cell_type": "code",
   "execution_count": 9,
   "metadata": {},
   "outputs": [
    {
     "name": "stdout",
     "output_type": "stream",
     "text": [
      "The 'Ship Date' column is not in date format.\n"
     ]
    }
   ],
   "source": [
    "is_date_format(df, 'Ship Date')"
   ]
  },
  {
   "cell_type": "code",
   "execution_count": 10,
   "metadata": {},
   "outputs": [
    {
     "name": "stdout",
     "output_type": "stream",
     "text": [
      "The 'Order Date' column is in date format.\n"
     ]
    },
    {
     "data": {
      "text/plain": [
       "0       2011-12-28\n",
       "1       2011-12-29\n",
       "2       2011-12-28\n",
       "3       2011-12-29\n",
       "4       2011-12-30\n",
       "           ...    \n",
       "51285   2014-12-26\n",
       "51286   2014-12-27\n",
       "51287   2014-12-24\n",
       "51288   2014-12-24\n",
       "51289   2014-12-27\n",
       "Name: Order Date, Length: 51290, dtype: datetime64[ns]"
      ]
     },
     "execution_count": 10,
     "metadata": {},
     "output_type": "execute_result"
    }
   ],
   "source": [
    "# convert to date format\n",
    "df['Order Date'] = pd.to_datetime(df['Order Date'], format='%d-%m-%Y', dayfirst=True)\n",
    "\n",
    "is_date_format(df, 'Order Date')\n",
    "df['Order Date']"
   ]
  },
  {
   "cell_type": "code",
   "execution_count": 11,
   "metadata": {},
   "outputs": [
    {
     "name": "stdout",
     "output_type": "stream",
     "text": [
      "The 'Ship Date' column is in date format.\n"
     ]
    },
    {
     "data": {
      "text/plain": [
       "0       2012-01-01\n",
       "1       2012-01-01\n",
       "2       2012-01-01\n",
       "3       2012-01-01\n",
       "4       2012-01-01\n",
       "           ...    \n",
       "51285   2014-12-31\n",
       "51286   2014-12-31\n",
       "51287   2014-12-31\n",
       "51288   2014-12-31\n",
       "51289   2014-12-31\n",
       "Name: Ship Date, Length: 51290, dtype: datetime64[ns]"
      ]
     },
     "execution_count": 11,
     "metadata": {},
     "output_type": "execute_result"
    }
   ],
   "source": [
    "# convert to date format\n",
    "df['Ship Date'] = pd.to_datetime(df['Ship Date'], format='%d-%m-%Y', dayfirst=True)\n",
    "\n",
    "is_date_format(df, 'Ship Date')\n",
    "df['Ship Date']"
   ]
  },
  {
   "cell_type": "markdown",
   "metadata": {
    "jp-MarkdownHeadingCollapsed": true,
    "tags": []
   },
   "source": [
    "## Data Cleaning"
   ]
  },
  {
   "cell_type": "markdown",
   "metadata": {},
   "source": [
    "##### Handling missing values"
   ]
  },
  {
   "cell_type": "code",
   "execution_count": 12,
   "metadata": {},
   "outputs": [
    {
     "data": {
      "text/plain": [
       "Order ID        0\n",
       "Order Date      0\n",
       "Ship Date       0\n",
       "customer ID     0\n",
       "Segment         0\n",
       "City            0\n",
       "State           0\n",
       "Region          0\n",
       "Country         0\n",
       "Market          0\n",
       "Product ID      0\n",
       "Category        0\n",
       "Product Name    0\n",
       "Sales           0\n",
       "Quantity        0\n",
       "Profit          0\n",
       "dtype: int64"
      ]
     },
     "execution_count": 12,
     "metadata": {},
     "output_type": "execute_result"
    }
   ],
   "source": [
    "# Is there null valeus?\n",
    "df.isna().sum()"
   ]
  },
  {
   "cell_type": "markdown",
   "metadata": {},
   "source": [
    "**Luckily I didn't need to remove null values as they are only present in the 'Postal Code' column, which will be used in the analysis.**"
   ]
  },
  {
   "cell_type": "markdown",
   "metadata": {},
   "source": [
    "##### Detecting and Removing Outliers"
   ]
  },
  {
   "cell_type": "markdown",
   "metadata": {},
   "source": [
    "**Box-plot** \n",
    "\n",
    "A box plot shows the distribution of the data and identify as any outliers as points that fall outside the “whiskers” of the plot."
   ]
  },
  {
   "cell_type": "code",
   "execution_count": 13,
   "metadata": {},
   "outputs": [],
   "source": [
    "# Box-plot function\n",
    "def plot_boxplot(df, column):\n",
    "    sns.boxplot(x = df[column])\n",
    "    plt.show()\n",
    "\n",
    "# Hist function\n",
    "def plot_hist(df,column):\n",
    "    sns.histplot(df[column], bins=15, kde=False)\n",
    "    sns.set_style('darkgrid')\n",
    "    plt.show()\n"
   ]
  },
  {
   "cell_type": "code",
   "execution_count": 14,
   "metadata": {},
   "outputs": [
    {
     "data": {
      "image/png": "[encoded data removed]",
      "text/plain": [
       "<Figure size 900x500 with 1 Axes>"
      ]
     },
     "metadata": {
      "needs_background": "light"
     },
     "output_type": "display_data"
    }
   ],
   "source": [
    "plot_boxplot(df, 'Sales')"
   ]
  },
  {
   "cell_type": "code",
   "execution_count": 15,
   "metadata": {},
   "outputs": [
    {
     "data": {
      "image/png": "[encoded data removed]",
      "text/plain": [
       "<Figure size 900x500 with 1 Axes>"
      ]
     },
     "metadata": {
      "needs_background": "light"
     },
     "output_type": "display_data"
    }
   ],
   "source": [
    "plot_hist(df, 'Sales')"
   ]
  },
  {
   "cell_type": "markdown",
   "metadata": {},
   "source": [
    "**Method 1 - Interquartile Range (IQR) test**\n",
    "\n",
    "The interquartile range test is a statistical method used to identify potential outliers in a dataset. It involves calculating the difference between the first quartile (Q1) and the third quartile (Q3) of the data distribution, which represents the middle 50% of the data.\n",
    "\n",
    "The IQR is then multiplied by a constant factor, typically 1.5, to define the lower and upper limits of the expected range of data values. Data points that fall outside of this expected range are considered potential outliers.\n",
    "\n",
    "\n",
    "To apply the interquartile test, we first sort the data in ascending order and then calculate the values of Q1 and Q3. These can be calculated as the median of the lower half of the data and the median of the upper half of the data, respectively. The IQR is then calculated as Q3 minus Q1.\n",
    "\n",
    "The lower limit of the expected range is defined as Q1 minus 1.5 times the IQR, and the upper limit is defined as Q3 plus 1.5 times the IQR. Any data points that fall outside of these limits are considered potential outliers and should be further examined and verified.\n",
    "\n",
    "One advantage of the interquartile test is that it is less sensitive to extreme values than the next test, the Z-score test, which makes it more suitable for datasets with skewed or non-normal distributions. However, it may not be as effective in detecting outliers in small sample sizes or datasets with multiple modes.\n",
    "\n"
   ]
  },
  {
   "cell_type": "code",
   "execution_count": 16,
   "metadata": {},
   "outputs": [],
   "source": [
    "# sort by sales column\n",
    "df = df.sort_values(by='Sales', ascending=False)"
   ]
  },
  {
   "cell_type": "code",
   "execution_count": 17,
   "metadata": {},
   "outputs": [
    {
     "data": {
      "text/plain": [
       "36958    22638.480\n",
       "16054    17499.950\n",
       "42123    13999.960\n",
       "41345    11199.968\n",
       "38252    10499.970\n",
       "           ...    \n",
       "42871        0.876\n",
       "50507        0.852\n",
       "42491        0.836\n",
       "3716         0.556\n",
       "39113        0.444\n",
       "Name: Sales, Length: 51290, dtype: float64"
      ]
     },
     "execution_count": 17,
     "metadata": {},
     "output_type": "execute_result"
    }
   ],
   "source": [
    "df.Sales"
   ]
  },
  {
   "cell_type": "code",
   "execution_count": 18,
   "metadata": {},
   "outputs": [
    {
     "name": "stdout",
     "output_type": "stream",
     "text": [
      "\n",
      "[Q1] -> 30.758625000000002\n",
      "[Q3] -> 251.0532\n",
      "[IIQ] -> 220.29\n",
      "[Q1 - 1.5 * IIQ] -> -299.68\n",
      "[Q3 + 1.5 * IIQ] -> 581.50\n",
      "\n"
     ]
    }
   ],
   "source": [
    "# IQR\n",
    "# creating the series value with the target columns SALES\n",
    "value = df['Sales']\n",
    "\n",
    "# first quartile\n",
    "q1 = value.quantile(.25)\n",
    "\n",
    "# third quartile\n",
    "q3 = value.quantile(.75)\n",
    "\n",
    "# interquartile range\n",
    "IIQ = q3 - q1\n",
    "\n",
    "# inferior limit\n",
    "lower_limit = q1 - 1.5 * IIQ\n",
    "\n",
    "# upper limit\n",
    "upper_limit = q3 + 1.5 * IIQ\n",
    "\n",
    "\n",
    "print(f'''\n",
    "[Q1] -> {q1}\n",
    "[Q3] -> {q3}\n",
    "[IIQ] -> {IIQ:.2f}\n",
    "[Q1 - 1.5 * IIQ] -> {lower_limit:.2f}\n",
    "[Q3 + 1.5 * IIQ] -> {upper_limit:.2f}\n",
    "''')"
   ]
  },
  {
   "cell_type": "code",
   "execution_count": 19,
   "metadata": {},
   "outputs": [],
   "source": [
    "# applying\n",
    "selection = (value >= lower_limit) & (value <= upper_limit)\n",
    "df_igr = df[selection]"
   ]
  },
  {
   "cell_type": "code",
   "execution_count": 20,
   "metadata": {},
   "outputs": [
    {
     "data": {
      "image/png": "[encoded data removed]",
      "text/plain": [
       "<Figure size 900x500 with 1 Axes>"
      ]
     },
     "metadata": {},
     "output_type": "display_data"
    }
   ],
   "source": [
    "plot_boxplot(df_igr, 'Sales')"
   ]
  },
  {
   "cell_type": "code",
   "execution_count": 21,
   "metadata": {},
   "outputs": [
    {
     "data": {
      "image/png": "[encoded data removed]",
      "text/plain": [
       "<Figure size 900x500 with 1 Axes>"
      ]
     },
     "metadata": {},
     "output_type": "display_data"
    }
   ],
   "source": [
    "plot_hist(df_igr, 'Sales')"
   ]
  },
  {
   "cell_type": "code",
   "execution_count": 22,
   "metadata": {},
   "outputs": [
    {
     "data": {
      "text/html": [
       "<div>\n",
       "<style scoped>\n",
       "    .dataframe tbody tr th:only-of-type {\n",
       "        vertical-align: middle;\n",
       "    }\n",
       "\n",
       "    .dataframe tbody tr th {\n",
       "        vertical-align: top;\n",
       "    }\n",
       "\n",
       "    .dataframe thead th {\n",
       "        text-align: right;\n",
       "    }\n",
       "</style>\n",
       "<table border=\"1\" class=\"dataframe\">\n",
       "  <thead>\n",
       "    <tr style=\"text-align: right;\">\n",
       "      <th></th>\n",
       "      <th>Order Date</th>\n",
       "      <th>Ship Date</th>\n",
       "      <th>customer ID</th>\n",
       "      <th>Sales</th>\n",
       "      <th>Quantity</th>\n",
       "      <th>Profit</th>\n",
       "    </tr>\n",
       "  </thead>\n",
       "  <tbody>\n",
       "    <tr>\n",
       "      <th>count</th>\n",
       "      <td>45635</td>\n",
       "      <td>45635</td>\n",
       "      <td>45635.00000</td>\n",
       "      <td>45635.000000</td>\n",
       "      <td>45635.000000</td>\n",
       "      <td>45635.000000</td>\n",
       "    </tr>\n",
       "    <tr>\n",
       "      <th>mean</th>\n",
       "      <td>2013-05-12 13:16:28.372959232</td>\n",
       "      <td>2013-05-16 12:38:19.393009664</td>\n",
       "      <td>13928.78076</td>\n",
       "      <td>121.659859</td>\n",
       "      <td>3.263789</td>\n",
       "      <td>10.191308</td>\n",
       "    </tr>\n",
       "    <tr>\n",
       "      <th>min</th>\n",
       "      <td>2011-01-01 00:00:00</td>\n",
       "      <td>2011-01-03 00:00:00</td>\n",
       "      <td>15.00000</td>\n",
       "      <td>0.444000</td>\n",
       "      <td>1.000000</td>\n",
       "      <td>-1924.542000</td>\n",
       "    </tr>\n",
       "    <tr>\n",
       "      <th>25%</th>\n",
       "      <td>2012-06-20 00:00:00</td>\n",
       "      <td>2012-06-24 00:00:00</td>\n",
       "      <td>10932.50000</td>\n",
       "      <td>27.180000</td>\n",
       "      <td>2.000000</td>\n",
       "      <td>-0.013200</td>\n",
       "    </tr>\n",
       "    <tr>\n",
       "      <th>50%</th>\n",
       "      <td>2013-07-10 00:00:00</td>\n",
       "      <td>2013-07-14 00:00:00</td>\n",
       "      <td>14530.00000</td>\n",
       "      <td>67.080000</td>\n",
       "      <td>3.000000</td>\n",
       "      <td>7.703100</td>\n",
       "    </tr>\n",
       "    <tr>\n",
       "      <th>75%</th>\n",
       "      <td>2014-05-22 00:00:00</td>\n",
       "      <td>2014-05-26 00:00:00</td>\n",
       "      <td>18220.00000</td>\n",
       "      <td>168.600000</td>\n",
       "      <td>4.000000</td>\n",
       "      <td>26.661600</td>\n",
       "    </tr>\n",
       "    <tr>\n",
       "      <th>max</th>\n",
       "      <td>2014-12-31 00:00:00</td>\n",
       "      <td>2015-01-07 00:00:00</td>\n",
       "      <td>21925.00000</td>\n",
       "      <td>581.400000</td>\n",
       "      <td>14.000000</td>\n",
       "      <td>284.220000</td>\n",
       "    </tr>\n",
       "    <tr>\n",
       "      <th>std</th>\n",
       "      <td>NaN</td>\n",
       "      <td>NaN</td>\n",
       "      <td>5354.85545</td>\n",
       "      <td>131.533247</td>\n",
       "      <td>2.155229</td>\n",
       "      <td>64.842801</td>\n",
       "    </tr>\n",
       "  </tbody>\n",
       "</table>\n",
       "</div>"
      ],
      "text/plain": [
       "                          Order Date                      Ship Date  \\\n",
       "count                          45635                          45635   \n",
       "mean   2013-05-12 13:16:28.372959232  2013-05-16 12:38:19.393009664   \n",
       "min              2011-01-01 00:00:00            2011-01-03 00:00:00   \n",
       "25%              2012-06-20 00:00:00            2012-06-24 00:00:00   \n",
       "50%              2013-07-10 00:00:00            2013-07-14 00:00:00   \n",
       "75%              2014-05-22 00:00:00            2014-05-26 00:00:00   \n",
       "max              2014-12-31 00:00:00            2015-01-07 00:00:00   \n",
       "std                              NaN                            NaN   \n",
       "\n",
       "       customer ID         Sales      Quantity        Profit  \n",
       "count  45635.00000  45635.000000  45635.000000  45635.000000  \n",
       "mean   13928.78076    121.659859      3.263789     10.191308  \n",
       "min       15.00000      0.444000      1.000000  -1924.542000  \n",
       "25%    10932.50000     27.180000      2.000000     -0.013200  \n",
       "50%    14530.00000     67.080000      3.000000      7.703100  \n",
       "75%    18220.00000    168.600000      4.000000     26.661600  \n",
       "max    21925.00000    581.400000     14.000000    284.220000  \n",
       "std     5354.85545    131.533247      2.155229     64.842801  "
      ]
     },
     "execution_count": 22,
     "metadata": {},
     "output_type": "execute_result"
    }
   ],
   "source": [
    "df_igr.describe()"
   ]
  },
  {
   "cell_type": "markdown",
   "metadata": {},
   "source": [
    "**Method 2 - Z-score test**\n",
    "\n",
    "The **Z-score** test is a commonly used statistical method for identifying outliers in time series data. One approach is to use the normalized data and consider any data points above or below a certain threshold as outliers. Typically, the threshold is set at 3 and -3 standard deviations from the mean, but this can vary depending on the specific case.\n",
    "\n",
    "**Outlier Sensitivity:** A lower Z-score threshold (e.g., 1.5) will identify more data points as outliers, while a higher threshold (e.g., 3) will be more conservative in identifying outliers. The threshold choice should align with your sensitivity to outliers."
   ]
  },
  {
   "cell_type": "code",
   "execution_count": 23,
   "metadata": {},
   "outputs": [],
   "source": [
    "# z-scores for the 'Sales' column\n",
    "z_scores = np.abs(stats.zscore(df['Sales']))\n",
    "\n",
    "# define a z-score threshold to identify outliers \n",
    "z_score_threshold = 1.5\n",
    "\n",
    "# new df with outliers removed using the z-score\n",
    "df_zscore = df[z_scores < z_score_threshold]"
   ]
  },
  {
   "cell_type": "code",
   "execution_count": 24,
   "metadata": {},
   "outputs": [
    {
     "data": {
      "image/png": "[encoded data removed]",
      "text/plain": [
       "<Figure size 900x500 with 1 Axes>"
      ]
     },
     "metadata": {},
     "output_type": "display_data"
    }
   ],
   "source": [
    "plot_hist(df_zscore, 'Sales')"
   ]
  },
  {
   "cell_type": "code",
   "execution_count": 25,
   "metadata": {},
   "outputs": [
    {
     "data": {
      "text/html": [
       "<div>\n",
       "<style scoped>\n",
       "    .dataframe tbody tr th:only-of-type {\n",
       "        vertical-align: middle;\n",
       "    }\n",
       "\n",
       "    .dataframe tbody tr th {\n",
       "        vertical-align: top;\n",
       "    }\n",
       "\n",
       "    .dataframe thead th {\n",
       "        text-align: right;\n",
       "    }\n",
       "</style>\n",
       "<table border=\"1\" class=\"dataframe\">\n",
       "  <thead>\n",
       "    <tr style=\"text-align: right;\">\n",
       "      <th></th>\n",
       "      <th>Order Date</th>\n",
       "      <th>Ship Date</th>\n",
       "      <th>customer ID</th>\n",
       "      <th>Sales</th>\n",
       "      <th>Quantity</th>\n",
       "      <th>Profit</th>\n",
       "    </tr>\n",
       "  </thead>\n",
       "  <tbody>\n",
       "    <tr>\n",
       "      <th>count</th>\n",
       "      <td>48573</td>\n",
       "      <td>48573</td>\n",
       "      <td>48573.000000</td>\n",
       "      <td>48573.000000</td>\n",
       "      <td>48573.000000</td>\n",
       "      <td>48573.000000</td>\n",
       "    </tr>\n",
       "    <tr>\n",
       "      <th>mean</th>\n",
       "      <td>2013-05-12 01:56:46.559199488</td>\n",
       "      <td>2013-05-16 01:17:17.242912768</td>\n",
       "      <td>13989.954707</td>\n",
       "      <td>159.528417</td>\n",
       "      <td>3.347683</td>\n",
       "      <td>14.644914</td>\n",
       "    </tr>\n",
       "    <tr>\n",
       "      <th>min</th>\n",
       "      <td>2011-01-01 00:00:00</td>\n",
       "      <td>2011-01-03 00:00:00</td>\n",
       "      <td>15.000000</td>\n",
       "      <td>0.444000</td>\n",
       "      <td>1.000000</td>\n",
       "      <td>-1924.542000</td>\n",
       "    </tr>\n",
       "    <tr>\n",
       "      <th>25%</th>\n",
       "      <td>2012-06-19 00:00:00</td>\n",
       "      <td>2012-06-23 00:00:00</td>\n",
       "      <td>11005.000000</td>\n",
       "      <td>29.040000</td>\n",
       "      <td>2.000000</td>\n",
       "      <td>0.000000</td>\n",
       "    </tr>\n",
       "    <tr>\n",
       "      <th>50%</th>\n",
       "      <td>2013-07-09 00:00:00</td>\n",
       "      <td>2013-07-13 00:00:00</td>\n",
       "      <td>14590.000000</td>\n",
       "      <td>76.500000</td>\n",
       "      <td>3.000000</td>\n",
       "      <td>8.456400</td>\n",
       "    </tr>\n",
       "    <tr>\n",
       "      <th>75%</th>\n",
       "      <td>2014-05-22 00:00:00</td>\n",
       "      <td>2014-05-26 00:00:00</td>\n",
       "      <td>18235.000000</td>\n",
       "      <td>206.844000</td>\n",
       "      <td>4.000000</td>\n",
       "      <td>31.032000</td>\n",
       "    </tr>\n",
       "    <tr>\n",
       "      <th>max</th>\n",
       "      <td>2014-12-31 00:00:00</td>\n",
       "      <td>2015-01-07 00:00:00</td>\n",
       "      <td>21925.000000</td>\n",
       "      <td>977.292000</td>\n",
       "      <td>14.000000</td>\n",
       "      <td>486.600000</td>\n",
       "    </tr>\n",
       "    <tr>\n",
       "      <th>std</th>\n",
       "      <td>NaN</td>\n",
       "      <td>NaN</td>\n",
       "      <td>5318.737763</td>\n",
       "      <td>198.197705</td>\n",
       "      <td>2.196871</td>\n",
       "      <td>85.707574</td>\n",
       "    </tr>\n",
       "  </tbody>\n",
       "</table>\n",
       "</div>"
      ],
      "text/plain": [
       "                          Order Date                      Ship Date  \\\n",
       "count                          48573                          48573   \n",
       "mean   2013-05-12 01:56:46.559199488  2013-05-16 01:17:17.242912768   \n",
       "min              2011-01-01 00:00:00            2011-01-03 00:00:00   \n",
       "25%              2012-06-19 00:00:00            2012-06-23 00:00:00   \n",
       "50%              2013-07-09 00:00:00            2013-07-13 00:00:00   \n",
       "75%              2014-05-22 00:00:00            2014-05-26 00:00:00   \n",
       "max              2014-12-31 00:00:00            2015-01-07 00:00:00   \n",
       "std                              NaN                            NaN   \n",
       "\n",
       "        customer ID         Sales      Quantity        Profit  \n",
       "count  48573.000000  48573.000000  48573.000000  48573.000000  \n",
       "mean   13989.954707    159.528417      3.347683     14.644914  \n",
       "min       15.000000      0.444000      1.000000  -1924.542000  \n",
       "25%    11005.000000     29.040000      2.000000      0.000000  \n",
       "50%    14590.000000     76.500000      3.000000      8.456400  \n",
       "75%    18235.000000    206.844000      4.000000     31.032000  \n",
       "max    21925.000000    977.292000     14.000000    486.600000  \n",
       "std     5318.737763    198.197705      2.196871     85.707574  "
      ]
     },
     "execution_count": 25,
     "metadata": {},
     "output_type": "execute_result"
    }
   ],
   "source": [
    "df_zscore.describe()"
   ]
  },
  {
   "cell_type": "markdown",
   "metadata": {},
   "source": [
    "**How much of the data we lost after remove outliers?**"
   ]
  },
  {
   "cell_type": "code",
   "execution_count": 26,
   "metadata": {},
   "outputs": [],
   "source": [
    "def removed_rows(df, df_removed):\n",
    "    rows_df = int(df.shape[0])\n",
    "    rows_df_removed = int(df_removed.shape[0])\n",
    "    rows_removed = rows_df - rows_df_removed\n",
    "    rows_removed_per = (rows_removed * 100) / rows_df\n",
    "    return rows_removed, rows_removed_per"
   ]
  },
  {
   "cell_type": "code",
   "execution_count": 27,
   "metadata": {},
   "outputs": [
    {
     "name": "stdout",
     "output_type": "stream",
     "text": [
      "The total of rows remove after IGR method is: 5655\n",
      "11.03% of the data removed after IGR.\n"
     ]
    }
   ],
   "source": [
    "# data lost by IGR method\n",
    "rows_removed_igr, rows_removed_igr_per = removed_rows(df, df_igr)\n",
    "\n",
    "print(f\"The total of rows remove after IGR method is: {rows_removed_igr}\")\n",
    "print(f\"{rows_removed_igr_per:.2f}% of the data removed after IGR.\")"
   ]
  },
  {
   "cell_type": "code",
   "execution_count": 28,
   "metadata": {},
   "outputs": [
    {
     "name": "stdout",
     "output_type": "stream",
     "text": [
      "The total of rows remove after Z-score method is: 2717\n",
      "5.30% of the data removed after Z-score.\n"
     ]
    }
   ],
   "source": [
    "# data lost by Z-score method\n",
    "rows_removed_zscore, rows_removed_zscore_per = removed_rows(df, df_zscore)\n",
    "\n",
    "print(f\"The total of rows remove after Z-score method is: {rows_removed_zscore}\")\n",
    "print(f\"{rows_removed_zscore_per:.2f}% of the data removed after Z-score.\")"
   ]
  },
  {
   "cell_type": "code",
   "execution_count": 29,
   "metadata": {},
   "outputs": [
    {
     "name": "stdout",
     "output_type": "stream",
     "text": [
      "The total of rows remove after Z-score method is: 2717\n",
      "5.30% of the data removed after Z-score.\n"
     ]
    }
   ],
   "source": [
    "# data lost by log transformation method\n",
    "rows_removed_zscore, rows_removed_zscore_per = removed_rows(df, df_zscore)\n",
    "\n",
    "print(f\"The total of rows remove after Z-score method is: {rows_removed_zscore}\")\n",
    "print(f\"{rows_removed_zscore_per:.2f}% of the data removed after Z-score.\")"
   ]
  },
  {
   "cell_type": "markdown",
   "metadata": {},
   "source": [
    "**The Z-score method was more conservative than the IGR method.**"
   ]
  },
  {
   "cell_type": "markdown",
   "metadata": {},
   "source": [
    "#### Export DataSets"
   ]
  },
  {
   "cell_type": "code",
   "execution_count": 30,
   "metadata": {},
   "outputs": [],
   "source": [
    "# df_igr.to_csv('../output/dataset_time_series_igr.csv', index=False) \n",
    "# df_zscore.to_csv('../output/dataset_time_series_zscore.csv', index=False) "
   ]
  },
  {
   "cell_type": "markdown",
   "metadata": {
    "jp-MarkdownHeadingCollapsed": true,
    "tags": []
   },
   "source": [
    "## Data Investigation - EDA"
   ]
  },
  {
   "cell_type": "markdown",
   "metadata": {},
   "source": [
    "#### Collect Large Numbers Describing the Customer Base and E-commerce Segments"
   ]
  },
  {
   "cell_type": "code",
   "execution_count": 31,
   "metadata": {},
   "outputs": [
    {
     "data": {
      "text/html": [
       "<div>\n",
       "<style scoped>\n",
       "    .dataframe tbody tr th:only-of-type {\n",
       "        vertical-align: middle;\n",
       "    }\n",
       "\n",
       "    .dataframe tbody tr th {\n",
       "        vertical-align: top;\n",
       "    }\n",
       "\n",
       "    .dataframe thead th {\n",
       "        text-align: right;\n",
       "    }\n",
       "</style>\n",
       "<table border=\"1\" class=\"dataframe\">\n",
       "  <thead>\n",
       "    <tr style=\"text-align: right;\">\n",
       "      <th></th>\n",
       "      <th>Order ID</th>\n",
       "      <th>Order Date</th>\n",
       "      <th>Ship Date</th>\n",
       "      <th>customer ID</th>\n",
       "      <th>Segment</th>\n",
       "      <th>City</th>\n",
       "      <th>State</th>\n",
       "      <th>Region</th>\n",
       "      <th>Country</th>\n",
       "      <th>Market</th>\n",
       "      <th>Product ID</th>\n",
       "      <th>Category</th>\n",
       "      <th>Product Name</th>\n",
       "      <th>Sales</th>\n",
       "      <th>Quantity</th>\n",
       "      <th>Profit</th>\n",
       "    </tr>\n",
       "  </thead>\n",
       "  <tbody>\n",
       "    <tr>\n",
       "      <th>271</th>\n",
       "      <td>RS-2014-7690</td>\n",
       "      <td>2014-01-29</td>\n",
       "      <td>2014-02-01</td>\n",
       "      <td>6315</td>\n",
       "      <td>Consumer</td>\n",
       "      <td>Makhachkala</td>\n",
       "      <td>Dagestan</td>\n",
       "      <td>EMEA</td>\n",
       "      <td>Russia</td>\n",
       "      <td>EMEA</td>\n",
       "      <td>OFF-ELD-10000819</td>\n",
       "      <td>Office Supplies</td>\n",
       "      <td>Eldon Trays, Industrial</td>\n",
       "      <td>581.400</td>\n",
       "      <td>12</td>\n",
       "      <td>273.2400</td>\n",
       "    </tr>\n",
       "    <tr>\n",
       "      <th>35897</th>\n",
       "      <td>IN-2012-32882</td>\n",
       "      <td>2012-08-17</td>\n",
       "      <td>2012-08-22</td>\n",
       "      <td>21325</td>\n",
       "      <td>Consumer</td>\n",
       "      <td>Kanpur</td>\n",
       "      <td>Uttar Pradesh</td>\n",
       "      <td>Central Asia</td>\n",
       "      <td>India</td>\n",
       "      <td>APAC</td>\n",
       "      <td>FUR-FU-10003451</td>\n",
       "      <td>Furniture</td>\n",
       "      <td>Eldon Frame, Black</td>\n",
       "      <td>581.250</td>\n",
       "      <td>5</td>\n",
       "      <td>46.5000</td>\n",
       "    </tr>\n",
       "    <tr>\n",
       "      <th>34105</th>\n",
       "      <td>AG-2011-1390</td>\n",
       "      <td>2011-08-16</td>\n",
       "      <td>2011-08-21</td>\n",
       "      <td>3675</td>\n",
       "      <td>Home Office</td>\n",
       "      <td>Bejaia</td>\n",
       "      <td>Bejaia</td>\n",
       "      <td>Africa</td>\n",
       "      <td>Algeria</td>\n",
       "      <td>Africa</td>\n",
       "      <td>OFF-SAN-10001237</td>\n",
       "      <td>Office Supplies</td>\n",
       "      <td>SanDisk Cards &amp; Envelopes, Premium</td>\n",
       "      <td>581.040</td>\n",
       "      <td>12</td>\n",
       "      <td>220.6800</td>\n",
       "    </tr>\n",
       "    <tr>\n",
       "      <th>29368</th>\n",
       "      <td>MX-2014-137400</td>\n",
       "      <td>2014-09-18</td>\n",
       "      <td>2014-09-18</td>\n",
       "      <td>21805</td>\n",
       "      <td>Corporate</td>\n",
       "      <td>Caucaia</td>\n",
       "      <td>Ceará</td>\n",
       "      <td>South</td>\n",
       "      <td>Brazil</td>\n",
       "      <td>LATAM</td>\n",
       "      <td>TEC-PH-10001548</td>\n",
       "      <td>Technology</td>\n",
       "      <td>Nokia Speaker Phone, Full Size</td>\n",
       "      <td>580.720</td>\n",
       "      <td>7</td>\n",
       "      <td>40.6000</td>\n",
       "    </tr>\n",
       "    <tr>\n",
       "      <th>19431</th>\n",
       "      <td>CA-2014-148404</td>\n",
       "      <td>2014-10-08</td>\n",
       "      <td>2014-10-12</td>\n",
       "      <td>13240</td>\n",
       "      <td>Home Office</td>\n",
       "      <td>Charlotte</td>\n",
       "      <td>North Carolina</td>\n",
       "      <td>South</td>\n",
       "      <td>United States</td>\n",
       "      <td>US</td>\n",
       "      <td>OFF-ST-10003208</td>\n",
       "      <td>Office Supplies</td>\n",
       "      <td>Adjustable Depth Letter/Legal Cart</td>\n",
       "      <td>580.672</td>\n",
       "      <td>4</td>\n",
       "      <td>65.3256</td>\n",
       "    </tr>\n",
       "  </tbody>\n",
       "</table>\n",
       "</div>"
      ],
      "text/plain": [
       "             Order ID Order Date  Ship Date  customer ID      Segment  \\\n",
       "271      RS-2014-7690 2014-01-29 2014-02-01         6315     Consumer   \n",
       "35897   IN-2012-32882 2012-08-17 2012-08-22        21325     Consumer   \n",
       "34105    AG-2011-1390 2011-08-16 2011-08-21         3675  Home Office   \n",
       "29368  MX-2014-137400 2014-09-18 2014-09-18        21805    Corporate   \n",
       "19431  CA-2014-148404 2014-10-08 2014-10-12        13240  Home Office   \n",
       "\n",
       "              City           State        Region        Country  Market  \\\n",
       "271    Makhachkala        Dagestan          EMEA         Russia    EMEA   \n",
       "35897       Kanpur   Uttar Pradesh  Central Asia          India    APAC   \n",
       "34105       Bejaia          Bejaia        Africa        Algeria  Africa   \n",
       "29368      Caucaia           Ceará         South         Brazil   LATAM   \n",
       "19431    Charlotte  North Carolina         South  United States      US   \n",
       "\n",
       "             Product ID         Category                        Product Name  \\\n",
       "271    OFF-ELD-10000819  Office Supplies             Eldon Trays, Industrial   \n",
       "35897   FUR-FU-10003451        Furniture                  Eldon Frame, Black   \n",
       "34105  OFF-SAN-10001237  Office Supplies  SanDisk Cards & Envelopes, Premium   \n",
       "29368   TEC-PH-10001548       Technology      Nokia Speaker Phone, Full Size   \n",
       "19431   OFF-ST-10003208  Office Supplies  Adjustable Depth Letter/Legal Cart   \n",
       "\n",
       "         Sales  Quantity    Profit  \n",
       "271    581.400        12  273.2400  \n",
       "35897  581.250         5   46.5000  \n",
       "34105  581.040        12  220.6800  \n",
       "29368  580.720         7   40.6000  \n",
       "19431  580.672         4   65.3256  "
      ]
     },
     "execution_count": 31,
     "metadata": {},
     "output_type": "execute_result"
    }
   ],
   "source": [
    "df_igr.head()"
   ]
  },
  {
   "cell_type": "markdown",
   "metadata": {},
   "source": [
    "### Specific Requests"
   ]
  },
  {
   "cell_type": "markdown",
   "metadata": {},
   "source": [
    "**1 - Average Delivery Time in All Countries**"
   ]
  },
  {
   "cell_type": "code",
   "execution_count": 32,
   "metadata": {},
   "outputs": [
    {
     "name": "stdout",
     "output_type": "stream",
     "text": [
      "Average Delivery Time in All Countries: 4 days\n"
     ]
    }
   ],
   "source": [
    "# Calculate 'Delivery Time' as the difference in days using .loc\n",
    "df_igr.loc[:, 'Delivery Time'] = (df_igr['Ship Date'] - df_igr['Order Date']).dt.days\n",
    "\n",
    "# Calculate the average delivery time\n",
    "average_delivery_time = df_igr['Delivery Time'].mean()\n",
    "print(f'Average Delivery Time in All Countries: {round(average_delivery_time)} days')\n",
    "\n"
   ]
  },
  {
   "cell_type": "code",
   "execution_count": 33,
   "metadata": {},
   "outputs": [
    {
     "data": {
      "text/plain": [
       "array([4., 5., 3., 2.])"
      ]
     },
     "execution_count": 33,
     "metadata": {},
     "output_type": "execute_result"
    }
   ],
   "source": [
    "# delivery time per country\n",
    "average_delivery_time_by_country = df_igr.groupby('Country')['Delivery Time'].mean().reset_index().round()\n",
    "average_delivery_time_by_country['Delivery Time'].unique()\n"
   ]
  },
  {
   "cell_type": "markdown",
   "metadata": {},
   "source": [
    "**2 -  Most Profitable Customer Segment Each Year**\n"
   ]
  },
  {
   "cell_type": "code",
   "execution_count": 34,
   "metadata": {},
   "outputs": [
    {
     "data": {
      "text/html": [
       "<div>\n",
       "<style scoped>\n",
       "    .dataframe tbody tr th:only-of-type {\n",
       "        vertical-align: middle;\n",
       "    }\n",
       "\n",
       "    .dataframe tbody tr th {\n",
       "        vertical-align: top;\n",
       "    }\n",
       "\n",
       "    .dataframe thead th {\n",
       "        text-align: right;\n",
       "    }\n",
       "</style>\n",
       "<table border=\"1\" class=\"dataframe\">\n",
       "  <thead>\n",
       "    <tr style=\"text-align: right;\">\n",
       "      <th></th>\n",
       "      <th>Year</th>\n",
       "      <th>Segment</th>\n",
       "      <th>Profit</th>\n",
       "    </tr>\n",
       "  </thead>\n",
       "  <tbody>\n",
       "    <tr>\n",
       "      <th>0</th>\n",
       "      <td>2011</td>\n",
       "      <td>Consumer</td>\n",
       "      <td>263.040</td>\n",
       "    </tr>\n",
       "    <tr>\n",
       "      <th>1</th>\n",
       "      <td>2011</td>\n",
       "      <td>Corporate</td>\n",
       "      <td>243.300</td>\n",
       "    </tr>\n",
       "    <tr>\n",
       "      <th>2</th>\n",
       "      <td>2011</td>\n",
       "      <td>Home Office</td>\n",
       "      <td>274.995</td>\n",
       "    </tr>\n",
       "    <tr>\n",
       "      <th>3</th>\n",
       "      <td>2012</td>\n",
       "      <td>Consumer</td>\n",
       "      <td>279.360</td>\n",
       "    </tr>\n",
       "    <tr>\n",
       "      <th>4</th>\n",
       "      <td>2012</td>\n",
       "      <td>Corporate</td>\n",
       "      <td>284.220</td>\n",
       "    </tr>\n",
       "    <tr>\n",
       "      <th>5</th>\n",
       "      <td>2012</td>\n",
       "      <td>Home Office</td>\n",
       "      <td>274.995</td>\n",
       "    </tr>\n",
       "    <tr>\n",
       "      <th>6</th>\n",
       "      <td>2013</td>\n",
       "      <td>Consumer</td>\n",
       "      <td>284.220</td>\n",
       "    </tr>\n",
       "    <tr>\n",
       "      <th>7</th>\n",
       "      <td>2013</td>\n",
       "      <td>Corporate</td>\n",
       "      <td>248.040</td>\n",
       "    </tr>\n",
       "    <tr>\n",
       "      <th>8</th>\n",
       "      <td>2013</td>\n",
       "      <td>Home Office</td>\n",
       "      <td>270.480</td>\n",
       "    </tr>\n",
       "    <tr>\n",
       "      <th>9</th>\n",
       "      <td>2014</td>\n",
       "      <td>Consumer</td>\n",
       "      <td>277.560</td>\n",
       "    </tr>\n",
       "    <tr>\n",
       "      <th>10</th>\n",
       "      <td>2014</td>\n",
       "      <td>Corporate</td>\n",
       "      <td>284.220</td>\n",
       "    </tr>\n",
       "    <tr>\n",
       "      <th>11</th>\n",
       "      <td>2014</td>\n",
       "      <td>Home Office</td>\n",
       "      <td>270.720</td>\n",
       "    </tr>\n",
       "  </tbody>\n",
       "</table>\n",
       "</div>"
      ],
      "text/plain": [
       "    Year      Segment   Profit\n",
       "0   2011     Consumer  263.040\n",
       "1   2011    Corporate  243.300\n",
       "2   2011  Home Office  274.995\n",
       "3   2012     Consumer  279.360\n",
       "4   2012    Corporate  284.220\n",
       "5   2012  Home Office  274.995\n",
       "6   2013     Consumer  284.220\n",
       "7   2013    Corporate  248.040\n",
       "8   2013  Home Office  270.480\n",
       "9   2014     Consumer  277.560\n",
       "10  2014    Corporate  284.220\n",
       "11  2014  Home Office  270.720"
      ]
     },
     "execution_count": 34,
     "metadata": {},
     "output_type": "execute_result"
    }
   ],
   "source": [
    "# Extract year from Order Date\n",
    "df_igr.loc[:, 'Year'] = df_igr['Order Date'].dt.year\n",
    "most_profitable_segment = df_igr.groupby(['Year', 'Segment'])['Profit'].max().reset_index()\n",
    "\n",
    "most_profitable_segment"
   ]
  },
  {
   "cell_type": "markdown",
   "metadata": {},
   "source": [
    "**3 - Segment with the Highest Sales Volume**"
   ]
  },
  {
   "cell_type": "code",
   "execution_count": 35,
   "metadata": {},
   "outputs": [],
   "source": [
    "# barplot function for visualization\n",
    "def bar_plot(x, y, data, title, xlabel, ylabel):\n",
    "    plt.figure(figsize=(10, 6))\n",
    "    sns.barplot(x=x, y=y, data=data, palette='viridis')\n",
    "    plt.title(title, fontsize=16)\n",
    "    plt.xlabel(xlabel, fontsize=12)\n",
    "    plt.ylabel(ylabel, fontsize=12)\n",
    "    plt.xticks(rotation=45)  # Rotate x-axis labels for better visibility\n",
    "    plt.show()"
   ]
  },
  {
   "cell_type": "code",
   "execution_count": 36,
   "metadata": {},
   "outputs": [
    {
     "data": {
      "image/png": "[encoded data removed]",
      "text/plain": [
       "<Figure size 1000x600 with 1 Axes>"
      ]
     },
     "metadata": {},
     "output_type": "display_data"
    }
   ],
   "source": [
    "sales_count_by_segment = df_igr.groupby('Segment')['Sales'].count().reset_index()\n",
    "bar_plot('Segment', 'Sales', sales_count_by_segment, 'Sales Volume by Segment', 'Segment', 'Number of Sales')"
   ]
  },
  {
   "cell_type": "markdown",
   "metadata": {},
   "source": [
    "**4 - Customer Distribution Across Countries**"
   ]
  },
  {
   "cell_type": "code",
   "execution_count": 37,
   "metadata": {},
   "outputs": [],
   "source": [
    "customer_by_country = df_igr.groupby('Country')['customer ID'].nunique().reset_index()\n",
    "customer_by_country = customer_by_country.sort_values(by='customer ID', ascending=False)"
   ]
  },
  {
   "cell_type": "code",
   "execution_count": 38,
   "metadata": {},
   "outputs": [
    {
     "data": {
      "text/html": [
       "<div>\n",
       "<style scoped>\n",
       "    .dataframe tbody tr th:only-of-type {\n",
       "        vertical-align: middle;\n",
       "    }\n",
       "\n",
       "    .dataframe tbody tr th {\n",
       "        vertical-align: top;\n",
       "    }\n",
       "\n",
       "    .dataframe thead th {\n",
       "        text-align: right;\n",
       "    }\n",
       "</style>\n",
       "<table border=\"1\" class=\"dataframe\">\n",
       "  <thead>\n",
       "    <tr style=\"text-align: right;\">\n",
       "      <th></th>\n",
       "      <th>Country</th>\n",
       "      <th>customer ID</th>\n",
       "    </tr>\n",
       "  </thead>\n",
       "  <tbody>\n",
       "    <tr>\n",
       "      <th>139</th>\n",
       "      <td>United States</td>\n",
       "      <td>790</td>\n",
       "    </tr>\n",
       "    <tr>\n",
       "      <th>44</th>\n",
       "      <td>France</td>\n",
       "      <td>657</td>\n",
       "    </tr>\n",
       "    <tr>\n",
       "      <th>81</th>\n",
       "      <td>Mexico</td>\n",
       "      <td>645</td>\n",
       "    </tr>\n",
       "    <tr>\n",
       "      <th>6</th>\n",
       "      <td>Australia</td>\n",
       "      <td>631</td>\n",
       "    </tr>\n",
       "    <tr>\n",
       "      <th>47</th>\n",
       "      <td>Germany</td>\n",
       "      <td>559</td>\n",
       "    </tr>\n",
       "    <tr>\n",
       "      <th>26</th>\n",
       "      <td>China</td>\n",
       "      <td>510</td>\n",
       "    </tr>\n",
       "    <tr>\n",
       "      <th>138</th>\n",
       "      <td>United Kingdom</td>\n",
       "      <td>493</td>\n",
       "    </tr>\n",
       "    <tr>\n",
       "      <th>133</th>\n",
       "      <td>Turkey</td>\n",
       "      <td>460</td>\n",
       "    </tr>\n",
       "    <tr>\n",
       "      <th>57</th>\n",
       "      <td>India</td>\n",
       "      <td>460</td>\n",
       "    </tr>\n",
       "    <tr>\n",
       "      <th>17</th>\n",
       "      <td>Brazil</td>\n",
       "      <td>452</td>\n",
       "    </tr>\n",
       "    <tr>\n",
       "      <th>58</th>\n",
       "      <td>Indonesia</td>\n",
       "      <td>447</td>\n",
       "    </tr>\n",
       "    <tr>\n",
       "      <th>63</th>\n",
       "      <td>Italy</td>\n",
       "      <td>366</td>\n",
       "    </tr>\n",
       "    <tr>\n",
       "      <th>94</th>\n",
       "      <td>Nigeria</td>\n",
       "      <td>328</td>\n",
       "    </tr>\n",
       "    <tr>\n",
       "      <th>119</th>\n",
       "      <td>Spain</td>\n",
       "      <td>312</td>\n",
       "    </tr>\n",
       "    <tr>\n",
       "      <th>35</th>\n",
       "      <td>Dominican Republic</td>\n",
       "      <td>300</td>\n",
       "    </tr>\n",
       "    <tr>\n",
       "      <th>30</th>\n",
       "      <td>Cuba</td>\n",
       "      <td>285</td>\n",
       "    </tr>\n",
       "    <tr>\n",
       "      <th>38</th>\n",
       "      <td>El Salvador</td>\n",
       "      <td>281</td>\n",
       "    </tr>\n",
       "    <tr>\n",
       "      <th>54</th>\n",
       "      <td>Honduras</td>\n",
       "      <td>276</td>\n",
       "    </tr>\n",
       "    <tr>\n",
       "      <th>101</th>\n",
       "      <td>Philippines</td>\n",
       "      <td>255</td>\n",
       "    </tr>\n",
       "    <tr>\n",
       "      <th>59</th>\n",
       "      <td>Iran</td>\n",
       "      <td>250</td>\n",
       "    </tr>\n",
       "  </tbody>\n",
       "</table>\n",
       "</div>"
      ],
      "text/plain": [
       "                Country  customer ID\n",
       "139       United States          790\n",
       "44               France          657\n",
       "81               Mexico          645\n",
       "6             Australia          631\n",
       "47              Germany          559\n",
       "26                China          510\n",
       "138      United Kingdom          493\n",
       "133              Turkey          460\n",
       "57                India          460\n",
       "17               Brazil          452\n",
       "58            Indonesia          447\n",
       "63                Italy          366\n",
       "94              Nigeria          328\n",
       "119               Spain          312\n",
       "35   Dominican Republic          300\n",
       "30                 Cuba          285\n",
       "38          El Salvador          281\n",
       "54             Honduras          276\n",
       "101         Philippines          255\n",
       "59                 Iran          250"
      ]
     },
     "execution_count": 38,
     "metadata": {},
     "output_type": "execute_result"
    }
   ],
   "source": [
    "customer_by_country.head(20)"
   ]
  },
  {
   "cell_type": "code",
   "execution_count": 39,
   "metadata": {},
   "outputs": [
    {
     "data": {
      "text/html": [
       "<div>\n",
       "<style scoped>\n",
       "    .dataframe tbody tr th:only-of-type {\n",
       "        vertical-align: middle;\n",
       "    }\n",
       "\n",
       "    .dataframe tbody tr th {\n",
       "        vertical-align: top;\n",
       "    }\n",
       "\n",
       "    .dataframe thead th {\n",
       "        text-align: right;\n",
       "    }\n",
       "</style>\n",
       "<table border=\"1\" class=\"dataframe\">\n",
       "  <thead>\n",
       "    <tr style=\"text-align: right;\">\n",
       "      <th></th>\n",
       "      <th>Country</th>\n",
       "      <th>customer ID</th>\n",
       "    </tr>\n",
       "  </thead>\n",
       "  <tbody>\n",
       "    <tr>\n",
       "      <th>118</th>\n",
       "      <td>South Sudan</td>\n",
       "      <td>1</td>\n",
       "    </tr>\n",
       "    <tr>\n",
       "      <th>24</th>\n",
       "      <td>Chad</td>\n",
       "      <td>1</td>\n",
       "    </tr>\n",
       "    <tr>\n",
       "      <th>9</th>\n",
       "      <td>Bahrain</td>\n",
       "      <td>1</td>\n",
       "    </tr>\n",
       "    <tr>\n",
       "      <th>39</th>\n",
       "      <td>Equatorial Guinea</td>\n",
       "      <td>1</td>\n",
       "    </tr>\n",
       "    <tr>\n",
       "      <th>40</th>\n",
       "      <td>Eritrea</td>\n",
       "      <td>1</td>\n",
       "    </tr>\n",
       "  </tbody>\n",
       "</table>\n",
       "</div>"
      ],
      "text/plain": [
       "               Country  customer ID\n",
       "118        South Sudan            1\n",
       "24                Chad            1\n",
       "9              Bahrain            1\n",
       "39   Equatorial Guinea            1\n",
       "40             Eritrea            1"
      ]
     },
     "execution_count": 39,
     "metadata": {},
     "output_type": "execute_result"
    }
   ],
   "source": [
    "customer_by_country.tail()"
   ]
  },
  {
   "cell_type": "code",
   "execution_count": 40,
   "metadata": {},
   "outputs": [
    {
     "data": {
      "image/png": "[encoded data removed]",
      "text/plain": [
       "<Figure size 1000x600 with 1 Axes>"
      ]
     },
     "metadata": {},
     "output_type": "display_data"
    }
   ],
   "source": [
    "# top 10 countries\n",
    "top_10_countries = customer_by_country.head(10)\n",
    "\n",
    "bar_plot(\n",
    "    x='Country',\n",
    "    y='customer ID',\n",
    "    data=top_10_countries,\n",
    "    title='Top 10 Countries with the Most Customers',\n",
    "    xlabel='Country',\n",
    "    ylabel='Number of Customers',\n",
    "    )\n"
   ]
  },
  {
   "cell_type": "markdown",
   "metadata": {},
   "source": [
    "**4.1 - Pareto Chart Customer Distribution Across Countries**\n",
    "\n",
    "A Pareto Chart, also known as a Pareto Diagram or Pareto Analysis, is a graphical tool used for prioritizing and visualizing the most significant factors in a dataset. It is based on the Pareto Principle, which states that a large majority of problems, effects, or results are often driven by a small number of causes or factors. The Pareto Principle is also known as the \"80/20 rule,\" suggesting that roughly 80% of the effects come from 20% of the causes."
   ]
  },
  {
   "cell_type": "code",
   "execution_count": 41,
   "metadata": {},
   "outputs": [
    {
     "data": {
      "text/html": [
       "<div>\n",
       "<style scoped>\n",
       "    .dataframe tbody tr th:only-of-type {\n",
       "        vertical-align: middle;\n",
       "    }\n",
       "\n",
       "    .dataframe tbody tr th {\n",
       "        vertical-align: top;\n",
       "    }\n",
       "\n",
       "    .dataframe thead th {\n",
       "        text-align: right;\n",
       "    }\n",
       "</style>\n",
       "<table border=\"1\" class=\"dataframe\">\n",
       "  <thead>\n",
       "    <tr style=\"text-align: right;\">\n",
       "      <th></th>\n",
       "      <th>Country</th>\n",
       "      <th>customer ID</th>\n",
       "    </tr>\n",
       "  </thead>\n",
       "  <tbody>\n",
       "    <tr>\n",
       "      <th>139</th>\n",
       "      <td>United States</td>\n",
       "      <td>790</td>\n",
       "    </tr>\n",
       "    <tr>\n",
       "      <th>44</th>\n",
       "      <td>France</td>\n",
       "      <td>657</td>\n",
       "    </tr>\n",
       "    <tr>\n",
       "      <th>81</th>\n",
       "      <td>Mexico</td>\n",
       "      <td>645</td>\n",
       "    </tr>\n",
       "    <tr>\n",
       "      <th>6</th>\n",
       "      <td>Australia</td>\n",
       "      <td>631</td>\n",
       "    </tr>\n",
       "    <tr>\n",
       "      <th>47</th>\n",
       "      <td>Germany</td>\n",
       "      <td>559</td>\n",
       "    </tr>\n",
       "  </tbody>\n",
       "</table>\n",
       "</div>"
      ],
      "text/plain": [
       "           Country  customer ID\n",
       "139  United States          790\n",
       "44          France          657\n",
       "81          Mexico          645\n",
       "6        Australia          631\n",
       "47         Germany          559"
      ]
     },
     "execution_count": 41,
     "metadata": {},
     "output_type": "execute_result"
    }
   ],
   "source": [
    "customer_by_country.head()\n"
   ]
  },
  {
   "cell_type": "code",
   "execution_count": 42,
   "metadata": {},
   "outputs": [
    {
     "data": {
      "text/html": [
       "<div>\n",
       "<style scoped>\n",
       "    .dataframe tbody tr th:only-of-type {\n",
       "        vertical-align: middle;\n",
       "    }\n",
       "\n",
       "    .dataframe tbody tr th {\n",
       "        vertical-align: top;\n",
       "    }\n",
       "\n",
       "    .dataframe thead th {\n",
       "        text-align: right;\n",
       "    }\n",
       "</style>\n",
       "<table border=\"1\" class=\"dataframe\">\n",
       "  <thead>\n",
       "    <tr style=\"text-align: right;\">\n",
       "      <th></th>\n",
       "      <th>Country</th>\n",
       "      <th>customer ID</th>\n",
       "      <th>cumulative_percentage</th>\n",
       "    </tr>\n",
       "  </thead>\n",
       "  <tbody>\n",
       "    <tr>\n",
       "      <th>139</th>\n",
       "      <td>United States</td>\n",
       "      <td>790</td>\n",
       "      <td>9.021354</td>\n",
       "    </tr>\n",
       "    <tr>\n",
       "      <th>44</th>\n",
       "      <td>France</td>\n",
       "      <td>657</td>\n",
       "      <td>16.523924</td>\n",
       "    </tr>\n",
       "    <tr>\n",
       "      <th>81</th>\n",
       "      <td>Mexico</td>\n",
       "      <td>645</td>\n",
       "      <td>23.889460</td>\n",
       "    </tr>\n",
       "    <tr>\n",
       "      <th>6</th>\n",
       "      <td>Australia</td>\n",
       "      <td>631</td>\n",
       "      <td>31.095124</td>\n",
       "    </tr>\n",
       "    <tr>\n",
       "      <th>47</th>\n",
       "      <td>Germany</td>\n",
       "      <td>559</td>\n",
       "      <td>37.478589</td>\n",
       "    </tr>\n",
       "    <tr>\n",
       "      <th>26</th>\n",
       "      <td>China</td>\n",
       "      <td>510</td>\n",
       "      <td>43.302501</td>\n",
       "    </tr>\n",
       "    <tr>\n",
       "      <th>138</th>\n",
       "      <td>United Kingdom</td>\n",
       "      <td>493</td>\n",
       "      <td>48.932283</td>\n",
       "    </tr>\n",
       "    <tr>\n",
       "      <th>133</th>\n",
       "      <td>Turkey</td>\n",
       "      <td>460</td>\n",
       "      <td>54.185223</td>\n",
       "    </tr>\n",
       "    <tr>\n",
       "      <th>57</th>\n",
       "      <td>India</td>\n",
       "      <td>460</td>\n",
       "      <td>59.438164</td>\n",
       "    </tr>\n",
       "    <tr>\n",
       "      <th>17</th>\n",
       "      <td>Brazil</td>\n",
       "      <td>452</td>\n",
       "      <td>64.599749</td>\n",
       "    </tr>\n",
       "    <tr>\n",
       "      <th>58</th>\n",
       "      <td>Indonesia</td>\n",
       "      <td>447</td>\n",
       "      <td>69.704237</td>\n",
       "    </tr>\n",
       "    <tr>\n",
       "      <th>63</th>\n",
       "      <td>Italy</td>\n",
       "      <td>366</td>\n",
       "      <td>73.883750</td>\n",
       "    </tr>\n",
       "    <tr>\n",
       "      <th>94</th>\n",
       "      <td>Nigeria</td>\n",
       "      <td>328</td>\n",
       "      <td>77.629325</td>\n",
       "    </tr>\n",
       "    <tr>\n",
       "      <th>119</th>\n",
       "      <td>Spain</td>\n",
       "      <td>312</td>\n",
       "      <td>81.192189</td>\n",
       "    </tr>\n",
       "    <tr>\n",
       "      <th>35</th>\n",
       "      <td>Dominican Republic</td>\n",
       "      <td>300</td>\n",
       "      <td>84.618020</td>\n",
       "    </tr>\n",
       "    <tr>\n",
       "      <th>30</th>\n",
       "      <td>Cuba</td>\n",
       "      <td>285</td>\n",
       "      <td>87.872559</td>\n",
       "    </tr>\n",
       "    <tr>\n",
       "      <th>38</th>\n",
       "      <td>El Salvador</td>\n",
       "      <td>281</td>\n",
       "      <td>91.081421</td>\n",
       "    </tr>\n",
       "    <tr>\n",
       "      <th>54</th>\n",
       "      <td>Honduras</td>\n",
       "      <td>276</td>\n",
       "      <td>94.233185</td>\n",
       "    </tr>\n",
       "    <tr>\n",
       "      <th>101</th>\n",
       "      <td>Philippines</td>\n",
       "      <td>255</td>\n",
       "      <td>97.145141</td>\n",
       "    </tr>\n",
       "    <tr>\n",
       "      <th>59</th>\n",
       "      <td>Iran</td>\n",
       "      <td>250</td>\n",
       "      <td>100.000000</td>\n",
       "    </tr>\n",
       "  </tbody>\n",
       "</table>\n",
       "</div>"
      ],
      "text/plain": [
       "                Country  customer ID  cumulative_percentage\n",
       "139       United States          790               9.021354\n",
       "44               France          657              16.523924\n",
       "81               Mexico          645              23.889460\n",
       "6             Australia          631              31.095124\n",
       "47              Germany          559              37.478589\n",
       "26                China          510              43.302501\n",
       "138      United Kingdom          493              48.932283\n",
       "133              Turkey          460              54.185223\n",
       "57                India          460              59.438164\n",
       "17               Brazil          452              64.599749\n",
       "58            Indonesia          447              69.704237\n",
       "63                Italy          366              73.883750\n",
       "94              Nigeria          328              77.629325\n",
       "119               Spain          312              81.192189\n",
       "35   Dominican Republic          300              84.618020\n",
       "30                 Cuba          285              87.872559\n",
       "38          El Salvador          281              91.081421\n",
       "54             Honduras          276              94.233185\n",
       "101         Philippines          255              97.145141\n",
       "59                 Iran          250             100.000000"
      ]
     },
     "execution_count": 42,
     "metadata": {},
     "output_type": "execute_result"
    }
   ],
   "source": [
    "customer_by_country = customer_by_country.head(20)\n",
    "\n",
    "customer_by_country['cumulative_percentage'] = (customer_by_country['customer ID'].cumsum() / customer_by_country['customer ID'].sum()) * 100\n",
    "customer_by_country.head(20)\n"
   ]
  },
  {
   "cell_type": "code",
   "execution_count": 43,
   "metadata": {},
   "outputs": [
    {
     "data": {
      "image/png": "[encoded data removed]",
      "text/plain": [
       "<Figure size 900x500 with 2 Axes>"
      ]
     },
     "metadata": {},
     "output_type": "display_data"
    }
   ],
   "source": [
    "\n",
    "x_values = customer_by_country['Country'].values\n",
    "y_values = customer_by_country['cumulative_percentage'].values\n",
    "\n",
    "fig, ax1 = plt.subplots()\n",
    "\n",
    "# Bar plot for sales by country\n",
    "ax1.bar(customer_by_country['Country'], customer_by_country['customer ID'], color='b')\n",
    "ax1.set_ylabel('customer ID', color='b')\n",
    "ax1.tick_params('y', colors='b')\n",
    "\n",
    "# Create a secondary y-axis for the cumulative percentage\n",
    "ax2 = ax1.twinx()\n",
    "ax2.plot(x_values, y_values, color='r', marker='o', label='Cumulative Percentage')\n",
    "ax2.set_ylabel('Cumulative Percentage', color='r')\n",
    "ax2.axhline(y=80, color='g', linestyle='--', label='80% Line')\n",
    "\n",
    "# Customize the chart\n",
    "plt.title('Pareto Chart of Customers by Country')\n",
    "ax1.set_xticklabels(customer_by_country['Country'], rotation=45, fontsize=10)\n",
    "plt.grid(visible=False)\n",
    "\n",
    "# Show the legend\n",
    "fig.legend(loc='upper right', bbox_to_anchor=(0.85, 0.85))\n",
    "\n",
    "# Display the chart\n",
    "plt.show()"
   ]
  },
  {
   "cell_type": "code",
   "execution_count": 49,
   "metadata": {},
   "outputs": [
    {
     "data": {
      "text/html": [
       "<div>\n",
       "<style scoped>\n",
       "    .dataframe tbody tr th:only-of-type {\n",
       "        vertical-align: middle;\n",
       "    }\n",
       "\n",
       "    .dataframe tbody tr th {\n",
       "        vertical-align: top;\n",
       "    }\n",
       "\n",
       "    .dataframe thead th {\n",
       "        text-align: right;\n",
       "    }\n",
       "</style>\n",
       "<table border=\"1\" class=\"dataframe\">\n",
       "  <thead>\n",
       "    <tr style=\"text-align: right;\">\n",
       "      <th></th>\n",
       "      <th>Country</th>\n",
       "      <th>customer ID</th>\n",
       "      <th>cumulative_percentage</th>\n",
       "    </tr>\n",
       "  </thead>\n",
       "  <tbody>\n",
       "    <tr>\n",
       "      <th>139</th>\n",
       "      <td>United States</td>\n",
       "      <td>790</td>\n",
       "      <td>9.021354</td>\n",
       "    </tr>\n",
       "    <tr>\n",
       "      <th>44</th>\n",
       "      <td>France</td>\n",
       "      <td>657</td>\n",
       "      <td>16.523924</td>\n",
       "    </tr>\n",
       "    <tr>\n",
       "      <th>81</th>\n",
       "      <td>Mexico</td>\n",
       "      <td>645</td>\n",
       "      <td>23.889460</td>\n",
       "    </tr>\n",
       "    <tr>\n",
       "      <th>6</th>\n",
       "      <td>Australia</td>\n",
       "      <td>631</td>\n",
       "      <td>31.095124</td>\n",
       "    </tr>\n",
       "    <tr>\n",
       "      <th>47</th>\n",
       "      <td>Germany</td>\n",
       "      <td>559</td>\n",
       "      <td>37.478589</td>\n",
       "    </tr>\n",
       "    <tr>\n",
       "      <th>26</th>\n",
       "      <td>China</td>\n",
       "      <td>510</td>\n",
       "      <td>43.302501</td>\n",
       "    </tr>\n",
       "    <tr>\n",
       "      <th>138</th>\n",
       "      <td>United Kingdom</td>\n",
       "      <td>493</td>\n",
       "      <td>48.932283</td>\n",
       "    </tr>\n",
       "    <tr>\n",
       "      <th>133</th>\n",
       "      <td>Turkey</td>\n",
       "      <td>460</td>\n",
       "      <td>54.185223</td>\n",
       "    </tr>\n",
       "    <tr>\n",
       "      <th>57</th>\n",
       "      <td>India</td>\n",
       "      <td>460</td>\n",
       "      <td>59.438164</td>\n",
       "    </tr>\n",
       "    <tr>\n",
       "      <th>17</th>\n",
       "      <td>Brazil</td>\n",
       "      <td>452</td>\n",
       "      <td>64.599749</td>\n",
       "    </tr>\n",
       "    <tr>\n",
       "      <th>58</th>\n",
       "      <td>Indonesia</td>\n",
       "      <td>447</td>\n",
       "      <td>69.704237</td>\n",
       "    </tr>\n",
       "    <tr>\n",
       "      <th>63</th>\n",
       "      <td>Italy</td>\n",
       "      <td>366</td>\n",
       "      <td>73.883750</td>\n",
       "    </tr>\n",
       "    <tr>\n",
       "      <th>94</th>\n",
       "      <td>Nigeria</td>\n",
       "      <td>328</td>\n",
       "      <td>77.629325</td>\n",
       "    </tr>\n",
       "    <tr>\n",
       "      <th>119</th>\n",
       "      <td>Spain</td>\n",
       "      <td>312</td>\n",
       "      <td>81.192189</td>\n",
       "    </tr>\n",
       "    <tr>\n",
       "      <th>35</th>\n",
       "      <td>Dominican Republic</td>\n",
       "      <td>300</td>\n",
       "      <td>84.618020</td>\n",
       "    </tr>\n",
       "    <tr>\n",
       "      <th>30</th>\n",
       "      <td>Cuba</td>\n",
       "      <td>285</td>\n",
       "      <td>87.872559</td>\n",
       "    </tr>\n",
       "    <tr>\n",
       "      <th>38</th>\n",
       "      <td>El Salvador</td>\n",
       "      <td>281</td>\n",
       "      <td>91.081421</td>\n",
       "    </tr>\n",
       "    <tr>\n",
       "      <th>54</th>\n",
       "      <td>Honduras</td>\n",
       "      <td>276</td>\n",
       "      <td>94.233185</td>\n",
       "    </tr>\n",
       "    <tr>\n",
       "      <th>101</th>\n",
       "      <td>Philippines</td>\n",
       "      <td>255</td>\n",
       "      <td>97.145141</td>\n",
       "    </tr>\n",
       "    <tr>\n",
       "      <th>59</th>\n",
       "      <td>Iran</td>\n",
       "      <td>250</td>\n",
       "      <td>100.000000</td>\n",
       "    </tr>\n",
       "  </tbody>\n",
       "</table>\n",
       "</div>"
      ],
      "text/plain": [
       "                Country  customer ID  cumulative_percentage\n",
       "139       United States          790               9.021354\n",
       "44               France          657              16.523924\n",
       "81               Mexico          645              23.889460\n",
       "6             Australia          631              31.095124\n",
       "47              Germany          559              37.478589\n",
       "26                China          510              43.302501\n",
       "138      United Kingdom          493              48.932283\n",
       "133              Turkey          460              54.185223\n",
       "57                India          460              59.438164\n",
       "17               Brazil          452              64.599749\n",
       "58            Indonesia          447              69.704237\n",
       "63                Italy          366              73.883750\n",
       "94              Nigeria          328              77.629325\n",
       "119               Spain          312              81.192189\n",
       "35   Dominican Republic          300              84.618020\n",
       "30                 Cuba          285              87.872559\n",
       "38          El Salvador          281              91.081421\n",
       "54             Honduras          276              94.233185\n",
       "101         Philippines          255              97.145141\n",
       "59                 Iran          250             100.000000"
      ]
     },
     "execution_count": 49,
     "metadata": {},
     "output_type": "execute_result"
    }
   ],
   "source": [
    "customer_by_country.head(20)\n"
   ]
  },
  {
   "cell_type": "markdown",
   "metadata": {},
   "source": [
    "**5 - Customer Profile Based on Purchasing Frequency**"
   ]
  },
  {
   "cell_type": "code",
   "execution_count": 44,
   "metadata": {},
   "outputs": [
    {
     "data": {
      "text/plain": [
       "Index(['Order ID', 'Order Date', 'Ship Date', 'customer ID', 'Segment', 'City',\n",
       "       'State', 'Region', 'Country', 'Market', 'Product ID', 'Category',\n",
       "       'Product Name', 'Sales', 'Quantity', 'Profit', 'Delivery Time', 'Year'],\n",
       "      dtype='object')"
      ]
     },
     "execution_count": 44,
     "metadata": {},
     "output_type": "execute_result"
    }
   ],
   "source": [
    "df_igr.columns"
   ]
  },
  {
   "cell_type": "code",
   "execution_count": 45,
   "metadata": {},
   "outputs": [
    {
     "data": {
      "text/html": [
       "<div>\n",
       "<style scoped>\n",
       "    .dataframe tbody tr th:only-of-type {\n",
       "        vertical-align: middle;\n",
       "    }\n",
       "\n",
       "    .dataframe tbody tr th {\n",
       "        vertical-align: top;\n",
       "    }\n",
       "\n",
       "    .dataframe thead th {\n",
       "        text-align: right;\n",
       "    }\n",
       "</style>\n",
       "<table border=\"1\" class=\"dataframe\">\n",
       "  <thead>\n",
       "    <tr style=\"text-align: right;\">\n",
       "      <th></th>\n",
       "      <th>customer ID</th>\n",
       "      <th>Frequency</th>\n",
       "      <th>Total Sales</th>\n",
       "      <th>Total Profit</th>\n",
       "      <th>Total Quantity Purchased</th>\n",
       "      <th>Average Delivery Time</th>\n",
       "    </tr>\n",
       "  </thead>\n",
       "  <tbody>\n",
       "    <tr>\n",
       "      <th>0</th>\n",
       "      <td>18850</td>\n",
       "      <td>88</td>\n",
       "      <td>11244.6880</td>\n",
       "      <td>1229.6629</td>\n",
       "      <td>298</td>\n",
       "      <td>3.988636</td>\n",
       "    </tr>\n",
       "    <tr>\n",
       "      <th>1</th>\n",
       "      <td>20755</td>\n",
       "      <td>82</td>\n",
       "      <td>12105.2005</td>\n",
       "      <td>914.9661</td>\n",
       "      <td>297</td>\n",
       "      <td>4.146341</td>\n",
       "    </tr>\n",
       "    <tr>\n",
       "      <th>2</th>\n",
       "      <td>11335</td>\n",
       "      <td>82</td>\n",
       "      <td>10569.6040</td>\n",
       "      <td>2000.7405</td>\n",
       "      <td>319</td>\n",
       "      <td>4.097561</td>\n",
       "    </tr>\n",
       "    <tr>\n",
       "      <th>3</th>\n",
       "      <td>15805</td>\n",
       "      <td>78</td>\n",
       "      <td>11352.7397</td>\n",
       "      <td>2240.2536</td>\n",
       "      <td>295</td>\n",
       "      <td>4.102564</td>\n",
       "    </tr>\n",
       "    <tr>\n",
       "      <th>4</th>\n",
       "      <td>17965</td>\n",
       "      <td>78</td>\n",
       "      <td>10132.2022</td>\n",
       "      <td>748.7027</td>\n",
       "      <td>267</td>\n",
       "      <td>4.051282</td>\n",
       "    </tr>\n",
       "    <tr>\n",
       "      <th>...</th>\n",
       "      <td>...</td>\n",
       "      <td>...</td>\n",
       "      <td>...</td>\n",
       "      <td>...</td>\n",
       "      <td>...</td>\n",
       "      <td>...</td>\n",
       "    </tr>\n",
       "    <tr>\n",
       "      <th>1585</th>\n",
       "      <td>7890</td>\n",
       "      <td>1</td>\n",
       "      <td>19.1280</td>\n",
       "      <td>-22.4820</td>\n",
       "      <td>1</td>\n",
       "      <td>0.000000</td>\n",
       "    </tr>\n",
       "    <tr>\n",
       "      <th>1586</th>\n",
       "      <td>6270</td>\n",
       "      <td>1</td>\n",
       "      <td>12.8520</td>\n",
       "      <td>-3.2280</td>\n",
       "      <td>1</td>\n",
       "      <td>6.000000</td>\n",
       "    </tr>\n",
       "    <tr>\n",
       "      <th>1587</th>\n",
       "      <td>2985</td>\n",
       "      <td>1</td>\n",
       "      <td>81.4320</td>\n",
       "      <td>-78.8880</td>\n",
       "      <td>8</td>\n",
       "      <td>6.000000</td>\n",
       "    </tr>\n",
       "    <tr>\n",
       "      <th>1588</th>\n",
       "      <td>7650</td>\n",
       "      <td>1</td>\n",
       "      <td>301.7100</td>\n",
       "      <td>27.1500</td>\n",
       "      <td>1</td>\n",
       "      <td>2.000000</td>\n",
       "    </tr>\n",
       "    <tr>\n",
       "      <th>1589</th>\n",
       "      <td>9825</td>\n",
       "      <td>1</td>\n",
       "      <td>37.4400</td>\n",
       "      <td>0.0000</td>\n",
       "      <td>4</td>\n",
       "      <td>5.000000</td>\n",
       "    </tr>\n",
       "  </tbody>\n",
       "</table>\n",
       "<p>1590 rows × 6 columns</p>\n",
       "</div>"
      ],
      "text/plain": [
       "      customer ID  Frequency  Total Sales  Total Profit  \\\n",
       "0           18850         88   11244.6880     1229.6629   \n",
       "1           20755         82   12105.2005      914.9661   \n",
       "2           11335         82   10569.6040     2000.7405   \n",
       "3           15805         78   11352.7397     2240.2536   \n",
       "4           17965         78   10132.2022      748.7027   \n",
       "...           ...        ...          ...           ...   \n",
       "1585         7890          1      19.1280      -22.4820   \n",
       "1586         6270          1      12.8520       -3.2280   \n",
       "1587         2985          1      81.4320      -78.8880   \n",
       "1588         7650          1     301.7100       27.1500   \n",
       "1589         9825          1      37.4400        0.0000   \n",
       "\n",
       "      Total Quantity Purchased  Average Delivery Time  \n",
       "0                          298               3.988636  \n",
       "1                          297               4.146341  \n",
       "2                          319               4.097561  \n",
       "3                          295               4.102564  \n",
       "4                          267               4.051282  \n",
       "...                        ...                    ...  \n",
       "1585                         1               0.000000  \n",
       "1586                         1               6.000000  \n",
       "1587                         8               6.000000  \n",
       "1588                         1               2.000000  \n",
       "1589                         4               5.000000  \n",
       "\n",
       "[1590 rows x 6 columns]"
      ]
     },
     "execution_count": 45,
     "metadata": {},
     "output_type": "execute_result"
    }
   ],
   "source": [
    "# new df group by customer ID\n",
    "customer_groups = df_igr.groupby('customer ID')\n",
    "\n",
    "# customer profile using agregate function\n",
    "customer_profile = customer_groups.agg({\n",
    "    'Order ID': 'count',       # Number of orders\n",
    "    'Sales': 'sum',            # Total sales\n",
    "    'Profit': 'sum',           # Total profit\n",
    "    'Quantity': 'sum',         # Total quantity purchased\n",
    "    'Delivery Time': 'mean'    # Average delivery time\n",
    "})\n",
    "\n",
    "# rename the columns \n",
    "customer_profile = customer_profile.rename(columns={\n",
    "    'Order ID': 'Frequency',\n",
    "    'Sales': 'Total Sales',\n",
    "    'Profit': 'Total Profit',\n",
    "    'Quantity': 'Total Quantity Purchased',\n",
    "    'Delivery Time': 'Average Delivery Time'\n",
    "})\n",
    "\n",
    "# sort the customer profile by ppurchasing frequency\n",
    "customer_profile = customer_profile.sort_values(by='Frequency', ascending=False)\n",
    "\n",
    "# reset the index for a cleaner output\n",
    "customer_profile.reset_index(inplace=True)\n",
    "\n",
    "customer_profile"
   ]
  },
  {
   "cell_type": "markdown",
   "metadata": {},
   "source": [
    "**6 - Are Frequent Customers Contributing More Revenue and Profit?**"
   ]
  },
  {
   "cell_type": "markdown",
   "metadata": {},
   "source": [
    "In statistics, the Pearson correlation coefficient is a correlation coefficient that measures linear correlation between two sets of data. It is the ratio between the covariance of two variables and the product of their standard deviations"
   ]
  },
  {
   "cell_type": "code",
   "execution_count": 46,
   "metadata": {},
   "outputs": [
    {
     "name": "stdout",
     "output_type": "stream",
     "text": [
      "0.9582574053987369\n",
      "0.5498488060116395\n"
     ]
    }
   ],
   "source": [
    "correlation_sales = customer_profile['Frequency'].corr(customer_profile['Total Sales'])\n",
    "correlation_profit = customer_profile['Frequency'].corr(customer_profile['Total Profit'])\n",
    "\n",
    "# correlation pearson\n",
    "print(correlation_sales)\n",
    "print(correlation_profit)"
   ]
  },
  {
   "cell_type": "code",
   "execution_count": 47,
   "metadata": {},
   "outputs": [
    {
     "data": {
      "image/png": "[encoded data removed]",
      "text/plain": [
       "<Figure size 1200x500 with 2 Axes>"
      ]
     },
     "metadata": {},
     "output_type": "display_data"
    }
   ],
   "source": [
    "# Create a pair of scatter plots with regression lines\n",
    "plt.figure(figsize=(12, 5))\n",
    "\n",
    "# Scatter plot for Frequency vs. Total Sales\n",
    "plt.subplot(1, 2, 1)\n",
    "sns.regplot(x='Frequency', y='Total Sales', data=customer_profile, color='blue')\n",
    "plt.title('Frequency vs. Total Sales', fontsize=16)\n",
    "plt.xlabel('Frequency', fontsize=12)\n",
    "plt.ylabel('Total Sales', fontsize=12)\n",
    "\n",
    "# Scatter plot for Frequency vs. Total Profit\n",
    "plt.subplot(1, 2, 2)\n",
    "sns.regplot(x='Frequency', y='Total Profit', data=customer_profile, color='green')\n",
    "plt.title('Frequency vs. Total Profit', fontsize=16)\n",
    "plt.xlabel('Frequency', fontsize=12)\n",
    "plt.ylabel('Total Profit', fontsize=12)\n",
    "\n",
    "plt.tight_layout()\n",
    "plt.show()"
   ]
  },
  {
   "cell_type": "markdown",
   "metadata": {},
   "source": [
    "## Bibliography\n",
    "\n",
    "-  P. Patil, \"What is Exploratory Data Analysis?,\" Medium, Mar. 2018. [Online]. Available: https://towardsdatascience.com/exploratory-data-analysis-8fc1cb20fd15.[Accessed: Octuber 23, 2023].\n",
    "- D. Andrés, \"Clean your Time Series data III: Outliers removal - ML Pills,\" Apr. 2023. [Online]. Available: https://towardsdatascience.com/exploratory-data-analysis-8fc1cb20fd15. [Accessed: Octuber 23, 2023].\n",
    "\n",
    "\n",
    "\n",
    "\n",
    " \n",
    "\n",
    "\n",
    "\n",
    "\n",
    "\n",
    "\n",
    "\n",
    "\n",
    "\n",
    " "
   ]
  }
 ],
 "metadata": {
  "kernelspec": {
   "display_name": "Python 3 (ipykernel)",
   "language": "python",
   "name": "python3"
  },
  "language_info": {
   "codemirror_mode": {
    "name": "ipython",
    "version": 3
   },
   "file_extension": ".py",
   "mimetype": "text/x-python",
   "name": "python",
   "nbconvert_exporter": "python",
   "pygments_lexer": "ipython3",
   "version": "3.11.7"
  }
 },
 "nbformat": 4,
 "nbformat_minor": 4
}

{
 "cells": [
  {
   "cell_type": "markdown",
   "metadata": {},
   "source": [
    "# EDA - Exploratory Data Analysis\n",
    "\n",
    "Exploratory Data Analysis refers to the critical process of performing initial investigations on data so as to discover patterns,to spot anomalies,to test hypothesis and to check assumptions with the help of summary statistics and graphical representations (Patil 2018).\n",
    "\n",
    "## Goals\n",
    "\n",
    "- **Data cleaning:** cleaning the database, outliers, missings;\n",
    "- **Data Investigation:** describe the customer base on purchase;\n"
   ]
  },
  {
   "cell_type": "markdown",
   "metadata": {},
   "source": [
    "### Import Librarys"
   ]
  },
  {
   "cell_type": "code",
   "execution_count": 1,
   "metadata": {},
   "outputs": [],
   "source": [
    "# Data Analysis Step\n",
    "import datetime as dt\n",
    "import matplotlib.pyplot as plt\n",
    "import pandas as pd\n",
    "import numpy as np \n",
    "from scipy import stats\n",
    "import seaborn as sns\n",
    "import warnings\n",
    "warnings.filterwarnings('ignore')\n",
    "\n",
    "# plot parameters\n",
    "%matplotlib inline\n",
    "plt.rcParams['font.size'] = 14\n",
    "plt.rcParams['figure.figsize'] = (9, 5)\n",
    "plt.rcParams['figure.facecolor'] = '#00000000'\n",
    "\n",
    "# outliers with mahalanobis\n",
    "from scipy.spatial import distance\n",
    "\n"
   ]
  },
  {
   "cell_type": "markdown",
   "metadata": {
    "jp-MarkdownHeadingCollapsed": true,
    "tags": []
   },
   "source": [
    "## Data Preparation\n"
   ]
  },
  {
   "cell_type": "markdown",
   "metadata": {},
   "source": [
    "### Import DataSet"
   ]
  },
  {
   "cell_type": "code",
   "execution_count": 2,
   "metadata": {},
   "outputs": [],
   "source": [
    "# dataset from the Excel file \n",
    "dataset = pd.read_excel('../data/online_retail_II.xlsx')\n"
   ]
  },
  {
   "cell_type": "code",
   "execution_count": 3,
   "metadata": {},
   "outputs": [],
   "source": [
    "df = dataset.copy()"
   ]
  },
  {
   "cell_type": "code",
   "execution_count": 4,
   "metadata": {},
   "outputs": [
    {
     "data": {
      "text/html": [
       "<div>\n",
       "<style scoped>\n",
       "    .dataframe tbody tr th:only-of-type {\n",
       "        vertical-align: middle;\n",
       "    }\n",
       "\n",
       "    .dataframe tbody tr th {\n",
       "        vertical-align: top;\n",
       "    }\n",
       "\n",
       "    .dataframe thead th {\n",
       "        text-align: right;\n",
       "    }\n",
       "</style>\n",
       "<table border=\"1\" class=\"dataframe\">\n",
       "  <thead>\n",
       "    <tr style=\"text-align: right;\">\n",
       "      <th></th>\n",
       "      <th>Invoice</th>\n",
       "      <th>StockCode</th>\n",
       "      <th>Description</th>\n",
       "      <th>Quantity</th>\n",
       "      <th>InvoiceDate</th>\n",
       "      <th>Price</th>\n",
       "      <th>Customer ID</th>\n",
       "      <th>Country</th>\n",
       "    </tr>\n",
       "  </thead>\n",
       "  <tbody>\n",
       "    <tr>\n",
       "      <th>0</th>\n",
       "      <td>489434</td>\n",
       "      <td>85048</td>\n",
       "      <td>15CM CHRISTMAS GLASS BALL 20 LIGHTS</td>\n",
       "      <td>12</td>\n",
       "      <td>2009-12-01 07:45:00</td>\n",
       "      <td>6.95</td>\n",
       "      <td>13085.0</td>\n",
       "      <td>United Kingdom</td>\n",
       "    </tr>\n",
       "    <tr>\n",
       "      <th>1</th>\n",
       "      <td>489434</td>\n",
       "      <td>79323P</td>\n",
       "      <td>PINK CHERRY LIGHTS</td>\n",
       "      <td>12</td>\n",
       "      <td>2009-12-01 07:45:00</td>\n",
       "      <td>6.75</td>\n",
       "      <td>13085.0</td>\n",
       "      <td>United Kingdom</td>\n",
       "    </tr>\n",
       "    <tr>\n",
       "      <th>2</th>\n",
       "      <td>489434</td>\n",
       "      <td>79323W</td>\n",
       "      <td>WHITE CHERRY LIGHTS</td>\n",
       "      <td>12</td>\n",
       "      <td>2009-12-01 07:45:00</td>\n",
       "      <td>6.75</td>\n",
       "      <td>13085.0</td>\n",
       "      <td>United Kingdom</td>\n",
       "    </tr>\n",
       "    <tr>\n",
       "      <th>3</th>\n",
       "      <td>489434</td>\n",
       "      <td>22041</td>\n",
       "      <td>RECORD FRAME 7\" SINGLE SIZE</td>\n",
       "      <td>48</td>\n",
       "      <td>2009-12-01 07:45:00</td>\n",
       "      <td>2.10</td>\n",
       "      <td>13085.0</td>\n",
       "      <td>United Kingdom</td>\n",
       "    </tr>\n",
       "    <tr>\n",
       "      <th>4</th>\n",
       "      <td>489434</td>\n",
       "      <td>21232</td>\n",
       "      <td>STRAWBERRY CERAMIC TRINKET BOX</td>\n",
       "      <td>24</td>\n",
       "      <td>2009-12-01 07:45:00</td>\n",
       "      <td>1.25</td>\n",
       "      <td>13085.0</td>\n",
       "      <td>United Kingdom</td>\n",
       "    </tr>\n",
       "  </tbody>\n",
       "</table>\n",
       "</div>"
      ],
      "text/plain": [
       "  Invoice StockCode                          Description  Quantity  \\\n",
       "0  489434     85048  15CM CHRISTMAS GLASS BALL 20 LIGHTS        12   \n",
       "1  489434    79323P                   PINK CHERRY LIGHTS        12   \n",
       "2  489434    79323W                  WHITE CHERRY LIGHTS        12   \n",
       "3  489434     22041         RECORD FRAME 7\" SINGLE SIZE         48   \n",
       "4  489434     21232       STRAWBERRY CERAMIC TRINKET BOX        24   \n",
       "\n",
       "          InvoiceDate  Price  Customer ID         Country  \n",
       "0 2009-12-01 07:45:00   6.95      13085.0  United Kingdom  \n",
       "1 2009-12-01 07:45:00   6.75      13085.0  United Kingdom  \n",
       "2 2009-12-01 07:45:00   6.75      13085.0  United Kingdom  \n",
       "3 2009-12-01 07:45:00   2.10      13085.0  United Kingdom  \n",
       "4 2009-12-01 07:45:00   1.25      13085.0  United Kingdom  "
      ]
     },
     "execution_count": 4,
     "metadata": {},
     "output_type": "execute_result"
    }
   ],
   "source": [
    "df.head()"
   ]
  },
  {
   "cell_type": "code",
   "execution_count": null,
   "metadata": {},
   "outputs": [],
   "source": [
    "def summary(df):\n",
    "    \"\"\"\n",
    "    Display a summary of a DataFrame.\n",
    "\n",
    "    This function displays the first few rows of the DataFrame, basic information about the DataFrame's structure,\n",
    "    and summary statistics including percentiles.\n",
    "\n",
    "    Parameters:\n",
    "    df (DataFrame): The pandas DataFrame to be summarized.\n",
    "\n",
    "    Returns:\n",
    "    None\n",
    "    \"\"\"\n",
    "\n",
    "    display(f'Rows: {df.shape[0]}; Columns: {df.shape[1]}')\n",
    "    display(df.head())\n",
    "    print('-' * 100)\n",
    "    display(df.info())\n",
    "    print('-' * 100)\n",
    "    display(df.describe([0.01, 0.25, 0.50, 0.75, 0.99]))"
   ]
  },
  {
   "cell_type": "code",
   "execution_count": null,
   "metadata": {},
   "outputs": [],
   "source": [
    "summary(df)"
   ]
  },
  {
   "cell_type": "markdown",
   "metadata": {},
   "source": [
    "### Normalize Date"
   ]
  },
  {
   "cell_type": "code",
   "execution_count": 5,
   "metadata": {},
   "outputs": [
    {
     "data": {
      "text/plain": [
       "Index(['Invoice', 'StockCode', 'Description', 'Quantity', 'InvoiceDate',\n",
       "       'Price', 'Customer ID', 'Country'],\n",
       "      dtype='object')"
      ]
     },
     "execution_count": 5,
     "metadata": {},
     "output_type": "execute_result"
    }
   ],
   "source": [
    "df.columns"
   ]
  },
  {
   "cell_type": "code",
   "execution_count": 6,
   "metadata": {},
   "outputs": [],
   "source": [
    "# change columns to lowercase and remove whitespace in between \n",
    "df.columns = df.columns.str.replace(\" \", \"_\").str.lower()"
   ]
  },
  {
   "cell_type": "code",
   "execution_count": 7,
   "metadata": {},
   "outputs": [
    {
     "data": {
      "text/plain": [
       "Index(['invoice', 'stockcode', 'description', 'quantity', 'invoicedate',\n",
       "       'price', 'customer_id', 'country'],\n",
       "      dtype='object')"
      ]
     },
     "execution_count": 7,
     "metadata": {},
     "output_type": "execute_result"
    }
   ],
   "source": [
    "df.columns"
   ]
  },
  {
   "cell_type": "markdown",
   "metadata": {
    "jp-MarkdownHeadingCollapsed": true,
    "tags": []
   },
   "source": [
    "## Data Cleaning"
   ]
  },
  {
   "cell_type": "markdown",
   "metadata": {
    "tags": []
   },
   "source": [
    "### Understanding the data"
   ]
  },
  {
   "cell_type": "code",
   "execution_count": 8,
   "metadata": {},
   "outputs": [
    {
     "name": "stdout",
     "output_type": "stream",
     "text": [
      "invoice_unique: (28816,)\n",
      "stockcode_unique: (4632,)\n",
      "description_unique: (4682,)\n",
      "quantity_unique: (825,)\n"
     ]
    }
   ],
   "source": [
    "# Unique Values \n",
    "print(f'invoice_unique: {df.invoice.unique().shape}')\n",
    "print(f'stockcode_unique: {df.stockcode.unique().shape}')\n",
    "print(f'description_unique: {df.description.unique().shape}')\n",
    "print(f'quantity_unique: {df.quantity.unique().shape}')"
   ]
  },
  {
   "cell_type": "code",
   "execution_count": 9,
   "metadata": {},
   "outputs": [
    {
     "data": {
      "text/plain": [
       "(Timestamp('2009-12-01 07:45:00'), Timestamp('2010-12-09 20:01:00'))"
      ]
     },
     "execution_count": 9,
     "metadata": {},
     "output_type": "execute_result"
    }
   ],
   "source": [
    "# Start/End of date\n",
    "df.invoicedate.min(), df.invoicedate.max()"
   ]
  },
  {
   "cell_type": "markdown",
   "metadata": {},
   "source": [
    "##### Handling missing values"
   ]
  },
  {
   "cell_type": "code",
   "execution_count": 10,
   "metadata": {},
   "outputs": [
    {
     "data": {
      "text/plain": [
       "invoice             0\n",
       "stockcode           0\n",
       "description      2928\n",
       "quantity            0\n",
       "invoicedate         0\n",
       "price               0\n",
       "customer_id    107927\n",
       "country             0\n",
       "dtype: int64"
      ]
     },
     "execution_count": 10,
     "metadata": {},
     "output_type": "execute_result"
    }
   ],
   "source": [
    "# Is there null valeus?\n",
    "df.isnull().sum()"
   ]
  },
  {
   "cell_type": "code",
   "execution_count": 11,
   "metadata": {},
   "outputs": [
    {
     "data": {
      "text/plain": [
       "invoice        0\n",
       "stockcode      0\n",
       "description    0\n",
       "quantity       0\n",
       "invoicedate    0\n",
       "price          0\n",
       "customer_id    0\n",
       "country        0\n",
       "dtype: int64"
      ]
     },
     "execution_count": 11,
     "metadata": {},
     "output_type": "execute_result"
    }
   ],
   "source": [
    "df = df.dropna(subset=['customer_id', 'description'])\n",
    "df.isnull().sum()"
   ]
  },
  {
   "cell_type": "markdown",
   "metadata": {},
   "source": [
    "### Remove negative values\n",
    "\n",
    "- negative values are returned items;\n",
    "- `invoice` that contai 'C' are returned values;"
   ]
  },
  {
   "cell_type": "code",
   "execution_count": 12,
   "metadata": {},
   "outputs": [
    {
     "data": {
      "text/html": [
       "<div>\n",
       "<style scoped>\n",
       "    .dataframe tbody tr th:only-of-type {\n",
       "        vertical-align: middle;\n",
       "    }\n",
       "\n",
       "    .dataframe tbody tr th {\n",
       "        vertical-align: top;\n",
       "    }\n",
       "\n",
       "    .dataframe thead th {\n",
       "        text-align: right;\n",
       "    }\n",
       "</style>\n",
       "<table border=\"1\" class=\"dataframe\">\n",
       "  <thead>\n",
       "    <tr style=\"text-align: right;\">\n",
       "      <th></th>\n",
       "      <th>count</th>\n",
       "      <th>mean</th>\n",
       "      <th>min</th>\n",
       "      <th>1%</th>\n",
       "      <th>5%</th>\n",
       "      <th>10%</th>\n",
       "      <th>20%</th>\n",
       "      <th>50%</th>\n",
       "      <th>90%</th>\n",
       "      <th>95%</th>\n",
       "      <th>99%</th>\n",
       "      <th>max</th>\n",
       "      <th>std</th>\n",
       "    </tr>\n",
       "  </thead>\n",
       "  <tbody>\n",
       "    <tr>\n",
       "      <th>quantity</th>\n",
       "      <td>417534.0</td>\n",
       "      <td>12.758815</td>\n",
       "      <td>-9360.0</td>\n",
       "      <td>-2.0</td>\n",
       "      <td>1.0</td>\n",
       "      <td>1.0</td>\n",
       "      <td>1.0</td>\n",
       "      <td>4.0</td>\n",
       "      <td>24.0</td>\n",
       "      <td>36.0</td>\n",
       "      <td>144.0</td>\n",
       "      <td>19152.0</td>\n",
       "      <td>101.220424</td>\n",
       "    </tr>\n",
       "    <tr>\n",
       "      <th>invoicedate</th>\n",
       "      <td>417534</td>\n",
       "      <td>2010-07-01 01:12:19.787609856</td>\n",
       "      <td>2009-12-01 07:45:00</td>\n",
       "      <td>2009-12-02 15:04:00</td>\n",
       "      <td>2009-12-13 12:42:00</td>\n",
       "      <td>2010-01-18 14:49:00</td>\n",
       "      <td>2010-03-05 09:09:00</td>\n",
       "      <td>2010-07-08 19:12:00</td>\n",
       "      <td>2010-11-17 17:16:00</td>\n",
       "      <td>2010-11-28 13:43:00</td>\n",
       "      <td>2010-12-07 14:41:00</td>\n",
       "      <td>2010-12-09 20:01:00</td>\n",
       "      <td>NaN</td>\n",
       "    </tr>\n",
       "    <tr>\n",
       "      <th>price</th>\n",
       "      <td>417534.0</td>\n",
       "      <td>3.887547</td>\n",
       "      <td>0.0</td>\n",
       "      <td>0.29</td>\n",
       "      <td>0.42</td>\n",
       "      <td>0.65</td>\n",
       "      <td>0.85</td>\n",
       "      <td>1.95</td>\n",
       "      <td>6.75</td>\n",
       "      <td>8.5</td>\n",
       "      <td>14.95</td>\n",
       "      <td>25111.09</td>\n",
       "      <td>71.131797</td>\n",
       "    </tr>\n",
       "    <tr>\n",
       "      <th>customer_id</th>\n",
       "      <td>417534.0</td>\n",
       "      <td>15360.645478</td>\n",
       "      <td>12346.0</td>\n",
       "      <td>12435.0</td>\n",
       "      <td>12725.0</td>\n",
       "      <td>13042.0</td>\n",
       "      <td>13624.0</td>\n",
       "      <td>15311.0</td>\n",
       "      <td>17706.0</td>\n",
       "      <td>17913.0</td>\n",
       "      <td>18196.0</td>\n",
       "      <td>18287.0</td>\n",
       "      <td>1680.811316</td>\n",
       "    </tr>\n",
       "  </tbody>\n",
       "</table>\n",
       "</div>"
      ],
      "text/plain": [
       "                count                           mean                  min  \\\n",
       "quantity     417534.0                      12.758815              -9360.0   \n",
       "invoicedate    417534  2010-07-01 01:12:19.787609856  2009-12-01 07:45:00   \n",
       "price        417534.0                       3.887547                  0.0   \n",
       "customer_id  417534.0                   15360.645478              12346.0   \n",
       "\n",
       "                              1%                   5%                  10%  \\\n",
       "quantity                    -2.0                  1.0                  1.0   \n",
       "invoicedate  2009-12-02 15:04:00  2009-12-13 12:42:00  2010-01-18 14:49:00   \n",
       "price                       0.29                 0.42                 0.65   \n",
       "customer_id              12435.0              12725.0              13042.0   \n",
       "\n",
       "                             20%                  50%                  90%  \\\n",
       "quantity                     1.0                  4.0                 24.0   \n",
       "invoicedate  2010-03-05 09:09:00  2010-07-08 19:12:00  2010-11-17 17:16:00   \n",
       "price                       0.85                 1.95                 6.75   \n",
       "customer_id              13624.0              15311.0              17706.0   \n",
       "\n",
       "                             95%                  99%                  max  \\\n",
       "quantity                    36.0                144.0              19152.0   \n",
       "invoicedate  2010-11-28 13:43:00  2010-12-07 14:41:00  2010-12-09 20:01:00   \n",
       "price                        8.5                14.95             25111.09   \n",
       "customer_id              17913.0              18196.0              18287.0   \n",
       "\n",
       "                     std  \n",
       "quantity      101.220424  \n",
       "invoicedate          NaN  \n",
       "price          71.131797  \n",
       "customer_id  1680.811316  "
      ]
     },
     "execution_count": 12,
     "metadata": {},
     "output_type": "execute_result"
    }
   ],
   "source": [
    "df.describe([0.01, 0.05, 0.10, 0.20, 0.90, 0.95, 0.99]).T"
   ]
  },
  {
   "cell_type": "code",
   "execution_count": 13,
   "metadata": {},
   "outputs": [
    {
     "data": {
      "text/html": [
       "<div>\n",
       "<style scoped>\n",
       "    .dataframe tbody tr th:only-of-type {\n",
       "        vertical-align: middle;\n",
       "    }\n",
       "\n",
       "    .dataframe tbody tr th {\n",
       "        vertical-align: top;\n",
       "    }\n",
       "\n",
       "    .dataframe thead th {\n",
       "        text-align: right;\n",
       "    }\n",
       "</style>\n",
       "<table border=\"1\" class=\"dataframe\">\n",
       "  <thead>\n",
       "    <tr style=\"text-align: right;\">\n",
       "      <th></th>\n",
       "      <th>invoice</th>\n",
       "      <th>stockcode</th>\n",
       "      <th>description</th>\n",
       "      <th>quantity</th>\n",
       "      <th>invoicedate</th>\n",
       "      <th>price</th>\n",
       "      <th>customer_id</th>\n",
       "      <th>country</th>\n",
       "    </tr>\n",
       "  </thead>\n",
       "  <tbody>\n",
       "    <tr>\n",
       "      <th>507225</th>\n",
       "      <td>C536757</td>\n",
       "      <td>84347</td>\n",
       "      <td>ROTATING SILVER ANGELS T-LIGHT HLDR</td>\n",
       "      <td>-9360</td>\n",
       "      <td>2010-12-02 14:23:00</td>\n",
       "      <td>0.03</td>\n",
       "      <td>15838.0</td>\n",
       "      <td>United Kingdom</td>\n",
       "    </tr>\n",
       "    <tr>\n",
       "      <th>359669</th>\n",
       "      <td>C524235</td>\n",
       "      <td>21088</td>\n",
       "      <td>SET/6 FRUIT SALAD PAPER CUPS</td>\n",
       "      <td>-7128</td>\n",
       "      <td>2010-09-28 11:02:00</td>\n",
       "      <td>0.08</td>\n",
       "      <td>14277.0</td>\n",
       "      <td>France</td>\n",
       "    </tr>\n",
       "    <tr>\n",
       "      <th>359670</th>\n",
       "      <td>C524235</td>\n",
       "      <td>21096</td>\n",
       "      <td>SET/6 FRUIT SALAD  PAPER PLATES</td>\n",
       "      <td>-7008</td>\n",
       "      <td>2010-09-28 11:02:00</td>\n",
       "      <td>0.13</td>\n",
       "      <td>14277.0</td>\n",
       "      <td>France</td>\n",
       "    </tr>\n",
       "    <tr>\n",
       "      <th>359630</th>\n",
       "      <td>C524235</td>\n",
       "      <td>16047</td>\n",
       "      <td>POP ART PEN CASE &amp; PENS</td>\n",
       "      <td>-5184</td>\n",
       "      <td>2010-09-28 11:02:00</td>\n",
       "      <td>0.08</td>\n",
       "      <td>14277.0</td>\n",
       "      <td>France</td>\n",
       "    </tr>\n",
       "    <tr>\n",
       "      <th>359636</th>\n",
       "      <td>C524235</td>\n",
       "      <td>37340</td>\n",
       "      <td>MULTICOLOUR SPRING FLOWER MUG</td>\n",
       "      <td>-4992</td>\n",
       "      <td>2010-09-28 11:02:00</td>\n",
       "      <td>0.10</td>\n",
       "      <td>14277.0</td>\n",
       "      <td>France</td>\n",
       "    </tr>\n",
       "  </tbody>\n",
       "</table>\n",
       "</div>"
      ],
      "text/plain": [
       "        invoice stockcode                          description  quantity  \\\n",
       "507225  C536757     84347  ROTATING SILVER ANGELS T-LIGHT HLDR     -9360   \n",
       "359669  C524235     21088         SET/6 FRUIT SALAD PAPER CUPS     -7128   \n",
       "359670  C524235     21096      SET/6 FRUIT SALAD  PAPER PLATES     -7008   \n",
       "359630  C524235     16047              POP ART PEN CASE & PENS     -5184   \n",
       "359636  C524235     37340        MULTICOLOUR SPRING FLOWER MUG     -4992   \n",
       "\n",
       "               invoicedate  price  customer_id         country  \n",
       "507225 2010-12-02 14:23:00   0.03      15838.0  United Kingdom  \n",
       "359669 2010-09-28 11:02:00   0.08      14277.0          France  \n",
       "359670 2010-09-28 11:02:00   0.13      14277.0          France  \n",
       "359630 2010-09-28 11:02:00   0.08      14277.0          France  \n",
       "359636 2010-09-28 11:02:00   0.10      14277.0          France  "
      ]
     },
     "execution_count": 13,
     "metadata": {},
     "output_type": "execute_result"
    }
   ],
   "source": [
    "df_sorted = df.sort_values(by='quantity')\n",
    "df_sorted.head()"
   ]
  },
  {
   "cell_type": "code",
   "execution_count": 14,
   "metadata": {},
   "outputs": [
    {
     "data": {
      "text/html": [
       "<div>\n",
       "<style scoped>\n",
       "    .dataframe tbody tr th:only-of-type {\n",
       "        vertical-align: middle;\n",
       "    }\n",
       "\n",
       "    .dataframe tbody tr th {\n",
       "        vertical-align: top;\n",
       "    }\n",
       "\n",
       "    .dataframe thead th {\n",
       "        text-align: right;\n",
       "    }\n",
       "</style>\n",
       "<table border=\"1\" class=\"dataframe\">\n",
       "  <thead>\n",
       "    <tr style=\"text-align: right;\">\n",
       "      <th></th>\n",
       "      <th>invoice</th>\n",
       "      <th>stockcode</th>\n",
       "      <th>description</th>\n",
       "      <th>quantity</th>\n",
       "      <th>invoicedate</th>\n",
       "      <th>price</th>\n",
       "      <th>customer_id</th>\n",
       "      <th>country</th>\n",
       "    </tr>\n",
       "  </thead>\n",
       "  <tbody>\n",
       "    <tr>\n",
       "      <th>0</th>\n",
       "      <td>489434</td>\n",
       "      <td>85048</td>\n",
       "      <td>15CM CHRISTMAS GLASS BALL 20 LIGHTS</td>\n",
       "      <td>12</td>\n",
       "      <td>2009-12-01 07:45:00</td>\n",
       "      <td>6.95</td>\n",
       "      <td>13085.0</td>\n",
       "      <td>United Kingdom</td>\n",
       "    </tr>\n",
       "    <tr>\n",
       "      <th>1</th>\n",
       "      <td>489434</td>\n",
       "      <td>79323P</td>\n",
       "      <td>PINK CHERRY LIGHTS</td>\n",
       "      <td>12</td>\n",
       "      <td>2009-12-01 07:45:00</td>\n",
       "      <td>6.75</td>\n",
       "      <td>13085.0</td>\n",
       "      <td>United Kingdom</td>\n",
       "    </tr>\n",
       "    <tr>\n",
       "      <th>2</th>\n",
       "      <td>489434</td>\n",
       "      <td>79323W</td>\n",
       "      <td>WHITE CHERRY LIGHTS</td>\n",
       "      <td>12</td>\n",
       "      <td>2009-12-01 07:45:00</td>\n",
       "      <td>6.75</td>\n",
       "      <td>13085.0</td>\n",
       "      <td>United Kingdom</td>\n",
       "    </tr>\n",
       "    <tr>\n",
       "      <th>3</th>\n",
       "      <td>489434</td>\n",
       "      <td>22041</td>\n",
       "      <td>RECORD FRAME 7\" SINGLE SIZE</td>\n",
       "      <td>48</td>\n",
       "      <td>2009-12-01 07:45:00</td>\n",
       "      <td>2.10</td>\n",
       "      <td>13085.0</td>\n",
       "      <td>United Kingdom</td>\n",
       "    </tr>\n",
       "    <tr>\n",
       "      <th>4</th>\n",
       "      <td>489434</td>\n",
       "      <td>21232</td>\n",
       "      <td>STRAWBERRY CERAMIC TRINKET BOX</td>\n",
       "      <td>24</td>\n",
       "      <td>2009-12-01 07:45:00</td>\n",
       "      <td>1.25</td>\n",
       "      <td>13085.0</td>\n",
       "      <td>United Kingdom</td>\n",
       "    </tr>\n",
       "  </tbody>\n",
       "</table>\n",
       "</div>"
      ],
      "text/plain": [
       "  invoice stockcode                          description  quantity  \\\n",
       "0  489434     85048  15CM CHRISTMAS GLASS BALL 20 LIGHTS        12   \n",
       "1  489434    79323P                   PINK CHERRY LIGHTS        12   \n",
       "2  489434    79323W                  WHITE CHERRY LIGHTS        12   \n",
       "3  489434     22041         RECORD FRAME 7\" SINGLE SIZE         48   \n",
       "4  489434     21232       STRAWBERRY CERAMIC TRINKET BOX        24   \n",
       "\n",
       "          invoicedate  price  customer_id         country  \n",
       "0 2009-12-01 07:45:00   6.95      13085.0  United Kingdom  \n",
       "1 2009-12-01 07:45:00   6.75      13085.0  United Kingdom  \n",
       "2 2009-12-01 07:45:00   6.75      13085.0  United Kingdom  \n",
       "3 2009-12-01 07:45:00   2.10      13085.0  United Kingdom  \n",
       "4 2009-12-01 07:45:00   1.25      13085.0  United Kingdom  "
      ]
     },
     "execution_count": 14,
     "metadata": {},
     "output_type": "execute_result"
    }
   ],
   "source": [
    "df_filtered = df[~df['invoice'].astype(str).str.startswith('C')]\n",
    "df_filtered.head()"
   ]
  },
  {
   "cell_type": "code",
   "execution_count": 15,
   "metadata": {},
   "outputs": [],
   "source": [
    "df = df_filtered.copy()"
   ]
  },
  {
   "cell_type": "code",
   "execution_count": 16,
   "metadata": {},
   "outputs": [
    {
     "data": {
      "text/html": [
       "<div>\n",
       "<style scoped>\n",
       "    .dataframe tbody tr th:only-of-type {\n",
       "        vertical-align: middle;\n",
       "    }\n",
       "\n",
       "    .dataframe tbody tr th {\n",
       "        vertical-align: top;\n",
       "    }\n",
       "\n",
       "    .dataframe thead th {\n",
       "        text-align: right;\n",
       "    }\n",
       "</style>\n",
       "<table border=\"1\" class=\"dataframe\">\n",
       "  <thead>\n",
       "    <tr style=\"text-align: right;\">\n",
       "      <th></th>\n",
       "      <th>count</th>\n",
       "      <th>mean</th>\n",
       "      <th>min</th>\n",
       "      <th>1%</th>\n",
       "      <th>5%</th>\n",
       "      <th>10%</th>\n",
       "      <th>20%</th>\n",
       "      <th>50%</th>\n",
       "      <th>90%</th>\n",
       "      <th>95%</th>\n",
       "      <th>99%</th>\n",
       "      <th>max</th>\n",
       "      <th>std</th>\n",
       "    </tr>\n",
       "  </thead>\n",
       "  <tbody>\n",
       "    <tr>\n",
       "      <th>quantity</th>\n",
       "      <td>407695.0</td>\n",
       "      <td>13.586686</td>\n",
       "      <td>1.0</td>\n",
       "      <td>1.0</td>\n",
       "      <td>1.0</td>\n",
       "      <td>1.0</td>\n",
       "      <td>2.0</td>\n",
       "      <td>5.0</td>\n",
       "      <td>24.0</td>\n",
       "      <td>36.0</td>\n",
       "      <td>144.0</td>\n",
       "      <td>19152.0</td>\n",
       "      <td>96.842229</td>\n",
       "    </tr>\n",
       "    <tr>\n",
       "      <th>invoicedate</th>\n",
       "      <td>407695</td>\n",
       "      <td>2010-07-01 10:10:10.782177792</td>\n",
       "      <td>2009-12-01 07:45:00</td>\n",
       "      <td>2009-12-02 15:10:00</td>\n",
       "      <td>2009-12-13 13:27:00</td>\n",
       "      <td>2010-01-19 11:01:00</td>\n",
       "      <td>2010-03-05 11:31:00</td>\n",
       "      <td>2010-07-09 15:46:00</td>\n",
       "      <td>2010-11-18 10:37:00</td>\n",
       "      <td>2010-11-28 13:53:00</td>\n",
       "      <td>2010-12-07 14:31:00</td>\n",
       "      <td>2010-12-09 20:01:00</td>\n",
       "      <td>NaN</td>\n",
       "    </tr>\n",
       "    <tr>\n",
       "      <th>price</th>\n",
       "      <td>407695.0</td>\n",
       "      <td>3.294188</td>\n",
       "      <td>0.0</td>\n",
       "      <td>0.29</td>\n",
       "      <td>0.42</td>\n",
       "      <td>0.65</td>\n",
       "      <td>0.85</td>\n",
       "      <td>1.95</td>\n",
       "      <td>6.75</td>\n",
       "      <td>8.5</td>\n",
       "      <td>14.95</td>\n",
       "      <td>10953.5</td>\n",
       "      <td>34.756655</td>\n",
       "    </tr>\n",
       "    <tr>\n",
       "      <th>customer_id</th>\n",
       "      <td>407695.0</td>\n",
       "      <td>15368.504107</td>\n",
       "      <td>12346.0</td>\n",
       "      <td>12435.0</td>\n",
       "      <td>12731.0</td>\n",
       "      <td>13044.0</td>\n",
       "      <td>13635.0</td>\n",
       "      <td>15321.0</td>\n",
       "      <td>17706.0</td>\n",
       "      <td>17913.0</td>\n",
       "      <td>18196.0</td>\n",
       "      <td>18287.0</td>\n",
       "      <td>1679.7957</td>\n",
       "    </tr>\n",
       "  </tbody>\n",
       "</table>\n",
       "</div>"
      ],
      "text/plain": [
       "                count                           mean                  min  \\\n",
       "quantity     407695.0                      13.586686                  1.0   \n",
       "invoicedate    407695  2010-07-01 10:10:10.782177792  2009-12-01 07:45:00   \n",
       "price        407695.0                       3.294188                  0.0   \n",
       "customer_id  407695.0                   15368.504107              12346.0   \n",
       "\n",
       "                              1%                   5%                  10%  \\\n",
       "quantity                     1.0                  1.0                  1.0   \n",
       "invoicedate  2009-12-02 15:10:00  2009-12-13 13:27:00  2010-01-19 11:01:00   \n",
       "price                       0.29                 0.42                 0.65   \n",
       "customer_id              12435.0              12731.0              13044.0   \n",
       "\n",
       "                             20%                  50%                  90%  \\\n",
       "quantity                     2.0                  5.0                 24.0   \n",
       "invoicedate  2010-03-05 11:31:00  2010-07-09 15:46:00  2010-11-18 10:37:00   \n",
       "price                       0.85                 1.95                 6.75   \n",
       "customer_id              13635.0              15321.0              17706.0   \n",
       "\n",
       "                             95%                  99%                  max  \\\n",
       "quantity                    36.0                144.0              19152.0   \n",
       "invoicedate  2010-11-28 13:53:00  2010-12-07 14:31:00  2010-12-09 20:01:00   \n",
       "price                        8.5                14.95              10953.5   \n",
       "customer_id              17913.0              18196.0              18287.0   \n",
       "\n",
       "                   std  \n",
       "quantity     96.842229  \n",
       "invoicedate        NaN  \n",
       "price        34.756655  \n",
       "customer_id  1679.7957  "
      ]
     },
     "execution_count": 16,
     "metadata": {},
     "output_type": "execute_result"
    }
   ],
   "source": [
    "df.describe([0.01, 0.05, 0.10, 0.20, 0.90, 0.95, 0.99]).T"
   ]
  },
  {
   "cell_type": "markdown",
   "metadata": {},
   "source": [
    "### Check Duplicates\n",
    "\n",
    "The pandas `df.duplicated()` function uses a comparison of all columns by default to identify duplicate rows in a DataFrame. If you do not specify specific columns, it checks whether all columns have the same values ​​in different rows."
   ]
  },
  {
   "cell_type": "code",
   "execution_count": 17,
   "metadata": {},
   "outputs": [
    {
     "data": {
      "text/plain": [
       "407695"
      ]
     },
     "execution_count": 17,
     "metadata": {},
     "output_type": "execute_result"
    }
   ],
   "source": [
    "# Getting the number of rows in the dataframe\n",
    "df.shape[0]"
   ]
  },
  {
   "cell_type": "code",
   "execution_count": 18,
   "metadata": {},
   "outputs": [
    {
     "name": "stdout",
     "output_type": "stream",
     "text": [
      "The dataset contains 6748 duplicate rows that need to be removed.\n"
     ]
    }
   ],
   "source": [
    "# Displaying the number of duplicate rows\n",
    "print(f\"The dataset contains {df.duplicated().sum()} duplicate rows that need to be removed.\")\n",
    "\n",
    "# Removing duplicate rows\n",
    "df.drop_duplicates(inplace=True)"
   ]
  },
  {
   "cell_type": "code",
   "execution_count": 19,
   "metadata": {},
   "outputs": [
    {
     "data": {
      "text/plain": [
       "400947"
      ]
     },
     "execution_count": 19,
     "metadata": {},
     "output_type": "execute_result"
    }
   ],
   "source": [
    "# Getting the number of rows in the dataframe\n",
    "df.shape[0]"
   ]
  },
  {
   "cell_type": "markdown",
   "metadata": {},
   "source": [
    "#### Export DataSets"
   ]
  },
  {
   "cell_type": "code",
   "execution_count": 107,
   "metadata": {},
   "outputs": [],
   "source": []
  },
  {
   "cell_type": "markdown",
   "metadata": {
    "jp-MarkdownHeadingCollapsed": true,
    "tags": []
   },
   "source": [
    "## Data Investigation - EDA"
   ]
  },
  {
   "cell_type": "markdown",
   "metadata": {},
   "source": [
    "### let's create the sales column"
   ]
  },
  {
   "cell_type": "code",
   "execution_count": 20,
   "metadata": {},
   "outputs": [],
   "source": [
    "df['sales'] = df['quantity'] * df['price']"
   ]
  },
  {
   "cell_type": "code",
   "execution_count": 21,
   "metadata": {},
   "outputs": [
    {
     "data": {
      "text/plain": [
       "0.00        0.0\n",
       "0.25        5.0\n",
       "0.50       12.5\n",
       "0.75       19.5\n",
       "1.00    15818.4\n",
       "Name: sales, dtype: float64"
      ]
     },
     "execution_count": 21,
     "metadata": {},
     "output_type": "execute_result"
    }
   ],
   "source": [
    "df.sales.quantile([0, 0.25, 0.5, 0.75, 1])"
   ]
  },
  {
   "cell_type": "code",
   "execution_count": 22,
   "metadata": {},
   "outputs": [
    {
     "data": {
      "text/html": [
       "<div>\n",
       "<style scoped>\n",
       "    .dataframe tbody tr th:only-of-type {\n",
       "        vertical-align: middle;\n",
       "    }\n",
       "\n",
       "    .dataframe tbody tr th {\n",
       "        vertical-align: top;\n",
       "    }\n",
       "\n",
       "    .dataframe thead th {\n",
       "        text-align: right;\n",
       "    }\n",
       "</style>\n",
       "<table border=\"1\" class=\"dataframe\">\n",
       "  <thead>\n",
       "    <tr style=\"text-align: right;\">\n",
       "      <th></th>\n",
       "      <th>invoice</th>\n",
       "      <th>stockcode</th>\n",
       "      <th>description</th>\n",
       "      <th>quantity</th>\n",
       "      <th>invoicedate</th>\n",
       "      <th>price</th>\n",
       "      <th>customer_id</th>\n",
       "      <th>country</th>\n",
       "      <th>sales</th>\n",
       "    </tr>\n",
       "  </thead>\n",
       "  <tbody>\n",
       "    <tr>\n",
       "      <th>0</th>\n",
       "      <td>489434</td>\n",
       "      <td>85048</td>\n",
       "      <td>15CM CHRISTMAS GLASS BALL 20 LIGHTS</td>\n",
       "      <td>12</td>\n",
       "      <td>2009-12-01 07:45:00</td>\n",
       "      <td>6.95</td>\n",
       "      <td>13085.0</td>\n",
       "      <td>United Kingdom</td>\n",
       "      <td>83.4</td>\n",
       "    </tr>\n",
       "    <tr>\n",
       "      <th>1</th>\n",
       "      <td>489434</td>\n",
       "      <td>79323P</td>\n",
       "      <td>PINK CHERRY LIGHTS</td>\n",
       "      <td>12</td>\n",
       "      <td>2009-12-01 07:45:00</td>\n",
       "      <td>6.75</td>\n",
       "      <td>13085.0</td>\n",
       "      <td>United Kingdom</td>\n",
       "      <td>81.0</td>\n",
       "    </tr>\n",
       "    <tr>\n",
       "      <th>2</th>\n",
       "      <td>489434</td>\n",
       "      <td>79323W</td>\n",
       "      <td>WHITE CHERRY LIGHTS</td>\n",
       "      <td>12</td>\n",
       "      <td>2009-12-01 07:45:00</td>\n",
       "      <td>6.75</td>\n",
       "      <td>13085.0</td>\n",
       "      <td>United Kingdom</td>\n",
       "      <td>81.0</td>\n",
       "    </tr>\n",
       "    <tr>\n",
       "      <th>3</th>\n",
       "      <td>489434</td>\n",
       "      <td>22041</td>\n",
       "      <td>RECORD FRAME 7\" SINGLE SIZE</td>\n",
       "      <td>48</td>\n",
       "      <td>2009-12-01 07:45:00</td>\n",
       "      <td>2.10</td>\n",
       "      <td>13085.0</td>\n",
       "      <td>United Kingdom</td>\n",
       "      <td>100.8</td>\n",
       "    </tr>\n",
       "    <tr>\n",
       "      <th>4</th>\n",
       "      <td>489434</td>\n",
       "      <td>21232</td>\n",
       "      <td>STRAWBERRY CERAMIC TRINKET BOX</td>\n",
       "      <td>24</td>\n",
       "      <td>2009-12-01 07:45:00</td>\n",
       "      <td>1.25</td>\n",
       "      <td>13085.0</td>\n",
       "      <td>United Kingdom</td>\n",
       "      <td>30.0</td>\n",
       "    </tr>\n",
       "  </tbody>\n",
       "</table>\n",
       "</div>"
      ],
      "text/plain": [
       "  invoice stockcode                          description  quantity  \\\n",
       "0  489434     85048  15CM CHRISTMAS GLASS BALL 20 LIGHTS        12   \n",
       "1  489434    79323P                   PINK CHERRY LIGHTS        12   \n",
       "2  489434    79323W                  WHITE CHERRY LIGHTS        12   \n",
       "3  489434     22041         RECORD FRAME 7\" SINGLE SIZE         48   \n",
       "4  489434     21232       STRAWBERRY CERAMIC TRINKET BOX        24   \n",
       "\n",
       "          invoicedate  price  customer_id         country  sales  \n",
       "0 2009-12-01 07:45:00   6.95      13085.0  United Kingdom   83.4  \n",
       "1 2009-12-01 07:45:00   6.75      13085.0  United Kingdom   81.0  \n",
       "2 2009-12-01 07:45:00   6.75      13085.0  United Kingdom   81.0  \n",
       "3 2009-12-01 07:45:00   2.10      13085.0  United Kingdom  100.8  \n",
       "4 2009-12-01 07:45:00   1.25      13085.0  United Kingdom   30.0  "
      ]
     },
     "execution_count": 22,
     "metadata": {},
     "output_type": "execute_result"
    }
   ],
   "source": [
    "df.head()"
   ]
  },
  {
   "cell_type": "markdown",
   "metadata": {},
   "source": [
    "**5 - Customer Profile Based on Purchasing Frequency**"
   ]
  },
  {
   "cell_type": "code",
   "execution_count": 23,
   "metadata": {},
   "outputs": [
    {
     "data": {
      "text/html": [
       "<div>\n",
       "<style scoped>\n",
       "    .dataframe tbody tr th:only-of-type {\n",
       "        vertical-align: middle;\n",
       "    }\n",
       "\n",
       "    .dataframe tbody tr th {\n",
       "        vertical-align: top;\n",
       "    }\n",
       "\n",
       "    .dataframe thead th {\n",
       "        text-align: right;\n",
       "    }\n",
       "</style>\n",
       "<table border=\"1\" class=\"dataframe\">\n",
       "  <thead>\n",
       "    <tr style=\"text-align: right;\">\n",
       "      <th></th>\n",
       "      <th>customer_id</th>\n",
       "      <th>Frequency</th>\n",
       "      <th>Total Sales</th>\n",
       "      <th>Total Quantity Purchased</th>\n",
       "      <th>Purchased date</th>\n",
       "    </tr>\n",
       "  </thead>\n",
       "  <tbody>\n",
       "    <tr>\n",
       "      <th>0</th>\n",
       "      <td>14911.0</td>\n",
       "      <td>5568</td>\n",
       "      <td>152121.22</td>\n",
       "      <td>69709</td>\n",
       "      <td>2010-07-09 10:35:50.237069056</td>\n",
       "    </tr>\n",
       "    <tr>\n",
       "      <th>1</th>\n",
       "      <td>17841.0</td>\n",
       "      <td>4944</td>\n",
       "      <td>29562.02</td>\n",
       "      <td>14332</td>\n",
       "      <td>2010-06-08 08:53:10.485436928</td>\n",
       "    </tr>\n",
       "    <tr>\n",
       "      <th>2</th>\n",
       "      <td>14606.0</td>\n",
       "      <td>3802</td>\n",
       "      <td>18482.10</td>\n",
       "      <td>9287</td>\n",
       "      <td>2010-05-28 10:34:06.075749632</td>\n",
       "    </tr>\n",
       "    <tr>\n",
       "      <th>3</th>\n",
       "      <td>14156.0</td>\n",
       "      <td>2646</td>\n",
       "      <td>196549.74</td>\n",
       "      <td>108105</td>\n",
       "      <td>2010-06-10 04:30:19.659864064</td>\n",
       "    </tr>\n",
       "    <tr>\n",
       "      <th>4</th>\n",
       "      <td>12748.0</td>\n",
       "      <td>2532</td>\n",
       "      <td>22457.90</td>\n",
       "      <td>13110</td>\n",
       "      <td>2010-08-09 21:21:22.109004800</td>\n",
       "    </tr>\n",
       "    <tr>\n",
       "      <th>...</th>\n",
       "      <td>...</td>\n",
       "      <td>...</td>\n",
       "      <td>...</td>\n",
       "      <td>...</td>\n",
       "      <td>...</td>\n",
       "    </tr>\n",
       "    <tr>\n",
       "      <th>4309</th>\n",
       "      <td>13906.0</td>\n",
       "      <td>1</td>\n",
       "      <td>42.00</td>\n",
       "      <td>100</td>\n",
       "      <td>2010-10-26 15:00:00.000000000</td>\n",
       "    </tr>\n",
       "    <tr>\n",
       "      <th>4310</th>\n",
       "      <td>14328.0</td>\n",
       "      <td>1</td>\n",
       "      <td>445.05</td>\n",
       "      <td>1</td>\n",
       "      <td>2010-09-27 16:01:00.000000000</td>\n",
       "    </tr>\n",
       "    <tr>\n",
       "      <th>4311</th>\n",
       "      <td>15893.0</td>\n",
       "      <td>1</td>\n",
       "      <td>305.28</td>\n",
       "      <td>288</td>\n",
       "      <td>2010-08-15 11:12:00.000000000</td>\n",
       "    </tr>\n",
       "    <tr>\n",
       "      <th>4312</th>\n",
       "      <td>13942.0</td>\n",
       "      <td>1</td>\n",
       "      <td>320.00</td>\n",
       "      <td>1000</td>\n",
       "      <td>2010-06-23 12:35:00.000000000</td>\n",
       "    </tr>\n",
       "    <tr>\n",
       "      <th>4313</th>\n",
       "      <td>15999.0</td>\n",
       "      <td>1</td>\n",
       "      <td>20.40</td>\n",
       "      <td>24</td>\n",
       "      <td>2009-12-04 12:31:00.000000000</td>\n",
       "    </tr>\n",
       "  </tbody>\n",
       "</table>\n",
       "<p>4314 rows × 5 columns</p>\n",
       "</div>"
      ],
      "text/plain": [
       "      customer_id  Frequency  Total Sales  Total Quantity Purchased  \\\n",
       "0         14911.0       5568    152121.22                     69709   \n",
       "1         17841.0       4944     29562.02                     14332   \n",
       "2         14606.0       3802     18482.10                      9287   \n",
       "3         14156.0       2646    196549.74                    108105   \n",
       "4         12748.0       2532     22457.90                     13110   \n",
       "...           ...        ...          ...                       ...   \n",
       "4309      13906.0          1        42.00                       100   \n",
       "4310      14328.0          1       445.05                         1   \n",
       "4311      15893.0          1       305.28                       288   \n",
       "4312      13942.0          1       320.00                      1000   \n",
       "4313      15999.0          1        20.40                        24   \n",
       "\n",
       "                    Purchased date  \n",
       "0    2010-07-09 10:35:50.237069056  \n",
       "1    2010-06-08 08:53:10.485436928  \n",
       "2    2010-05-28 10:34:06.075749632  \n",
       "3    2010-06-10 04:30:19.659864064  \n",
       "4    2010-08-09 21:21:22.109004800  \n",
       "...                            ...  \n",
       "4309 2010-10-26 15:00:00.000000000  \n",
       "4310 2010-09-27 16:01:00.000000000  \n",
       "4311 2010-08-15 11:12:00.000000000  \n",
       "4312 2010-06-23 12:35:00.000000000  \n",
       "4313 2009-12-04 12:31:00.000000000  \n",
       "\n",
       "[4314 rows x 5 columns]"
      ]
     },
     "execution_count": 23,
     "metadata": {},
     "output_type": "execute_result"
    }
   ],
   "source": [
    "# new df group by customer ID\n",
    "customer_groups = df.groupby('customer_id')\n",
    "\n",
    "# customer profile using agregate function\n",
    "customer_profile = customer_groups.agg({\n",
    "    'invoice': 'count',       # Number of orders\n",
    "    'sales': 'sum',            # Total sales\n",
    "    'quantity': 'sum',         # Total quantity purchased\n",
    "    'invoicedate': 'mean'    # Purchased date\n",
    "})\n",
    "\n",
    "# rename the columns \n",
    "customer_profile = customer_profile.rename(columns={\n",
    "    'invoice': 'Frequency',\n",
    "    'sales': 'Total Sales',\n",
    "    'quantity': 'Total Quantity Purchased',\n",
    "    'invoicedate': 'Purchased date'\n",
    "})\n",
    "\n",
    "# sort the customer profile by ppurchasing frequency\n",
    "customer_profile = customer_profile.sort_values(by='Frequency', ascending=False)\n",
    "\n",
    "# reset the index for a cleaner output\n",
    "customer_profile.reset_index(inplace=True)\n",
    "\n",
    "customer_profile"
   ]
  },
  {
   "cell_type": "markdown",
   "metadata": {},
   "source": [
    "## Export DataSet"
   ]
  },
  {
   "cell_type": "code",
   "execution_count": 24,
   "metadata": {},
   "outputs": [],
   "source": [
    "df.to_csv('../output/online_retail_ead.csv', index=False) "
   ]
  },
  {
   "cell_type": "markdown",
   "metadata": {},
   "source": [
    "## Bibliography\n",
    "\n",
    "-  P. Patil, \"What is Exploratory Data Analysis?,\" Medium, Mar. 2018. [Online]. Available: https://towardsdatascience.com/exploratory-data-analysis-8fc1cb20fd15.[Accessed: Octuber 23, 2023].\n",
    "- D. Andrés, \"Clean your Time Series data III: Outliers removal - ML Pills,\" Apr. 2023. [Online]. Available: https://towardsdatascience.com/exploratory-data-analysis-8fc1cb20fd15. [Accessed: Octuber 23, 2023].\n",
    "- [Customer Segmentation & Recommendation System](https://www.kaggle.com/code/farzadnekouei/customer-segmentation-recommendation-system#Step-3.1-%7C-Handling-Missing-Values)\n",
    "- [RFM Analysis Online Retail II](https://www.kaggle.com/code/ekrembayar/rfm-analysis-online-retail-ii)\n",
    "\n",
    "\n",
    "\n",
    "\n",
    " \n",
    "\n",
    "\n",
    "\n",
    "\n",
    "\n",
    "\n",
    "\n",
    "\n",
    "\n",
    " "
   ]
  }
 ],
 "metadata": {
  "kernelspec": {
   "display_name": "customer_segmentation",
   "language": "python",
   "name": "python3"
  },
  "language_info": {
   "codemirror_mode": {
    "name": "ipython",
    "version": 3
   },
   "file_extension": ".py",
   "mimetype": "text/x-python",
   "name": "python",
   "nbconvert_exporter": "python",
   "pygments_lexer": "ipython3",
   "version": "3.12.7"
  }
 },
 "nbformat": 4,
 "nbformat_minor": 4
}
